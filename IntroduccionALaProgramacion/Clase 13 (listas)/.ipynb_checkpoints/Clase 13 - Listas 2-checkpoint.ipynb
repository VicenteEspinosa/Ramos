{
 "cells": [
  {
   "cell_type": "markdown",
   "metadata": {},
   "source": [
    "# Clase 13\n",
    "\n",
    "## Listas\n",
    "\n",
    "Las listas son ***secuencias mutables*** de elementos.\n",
    "El propósito de las listas es manejar colecciones homogéneas de datos (homogénea va a depender de la aplicación).\n",
    "\n",
    "### Métodos\n",
    "\n",
    "Las listas implementan todas las operaciones de las secuencias [(documentación oficial)](https://docs.python.org/3.5/library/stdtypes.html#common-sequence-operations) y de las secuencias mutables [(documentación oficial)](https://docs.python.org/3.5/library/stdtypes.html#mutable-sequence-types). Además poseen algunos métodos propios [(documentación oficial)](https://docs.python.org/3.5/tutorial/datastructures.html#more-on-lists).\n",
    "\n",
    "Algunos métodos útiles son los siguientes (asumimos que tenemos una lista en una variable l):\n",
    "\n",
    "#### l.count(x)\n",
    "Retorna el número de ocurrencias de *x* en *l*"
   ]
  },
  {
   "cell_type": "code",
   "execution_count": 1,
   "metadata": {},
   "outputs": [
    {
     "name": "stdout",
     "output_type": "stream",
     "text": [
      "2\n",
      "0\n"
     ]
    }
   ],
   "source": [
    "lista = [3, 4, 2, 4, 9, 6]\n",
    "\n",
    "print(lista.count(4))\n",
    "print(lista.count(8))"
   ]
  },
  {
   "cell_type": "markdown",
   "metadata": {},
   "source": [
    "#### l.append(x)\n",
    "\n",
    "Agrega *x* al final de la lista *l*\n",
    "\n",
    "#### l.extend(l2)\n",
    "\n",
    "Agrega los elementos de *l2* a *l*. Equivalente a ```l += l2```"
   ]
  },
  {
   "cell_type": "code",
   "execution_count": 12,
   "metadata": {},
   "outputs": [
    {
     "name": "stdout",
     "output_type": "stream",
     "text": [
      "[1, 2, 3, 4]\n",
      "[1, 2, 3, 4, 5, 6]\n"
     ]
    }
   ],
   "source": [
    "l1 = [1, 2, 3]\n",
    "l2 = [5, 6]\n",
    "\n",
    "l1.append(4)\n",
    "print(l1)\n",
    "\n",
    "l1.extend(l2)\n",
    "print(l1)"
   ]
  },
  {
   "cell_type": "markdown",
   "metadata": {},
   "source": [
    "#### l.index(x[, i[, j]])\n",
    "Retorna el índice de la primera aparición de *x* en *l*. Si se entrega el parámetro opcional *i* se busca la primera aparición a partir de la posición *i*. Si se entrega el parámetro opcional *j* se busca hasta la posición *j* (sin incluir a *j*).\n",
    "\n",
    "Si el elemento *x* no está presente en *l*, se lanza un error.\n",
    "\n",
    "#### l.insert(i, x)\n",
    "Inserta el elemento *x* en la posición *i* de *l*."
   ]
  },
  {
   "cell_type": "code",
   "execution_count": 5,
   "metadata": {},
   "outputs": [
    {
     "name": "stdout",
     "output_type": "stream",
     "text": [
      "1\n",
      "[4, 3, 4, 2, 9, 6]\n",
      "0\n"
     ]
    },
    {
     "ename": "ValueError",
     "evalue": "1 is not in list",
     "output_type": "error",
     "traceback": [
      "\u001b[1;31m---------------------------------------------------------------------------\u001b[0m",
      "\u001b[1;31mValueError\u001b[0m                                Traceback (most recent call last)",
      "\u001b[1;32m<ipython-input-5-16c2cc09f2ea>\u001b[0m in \u001b[0;36m<module>\u001b[1;34m()\u001b[0m\n\u001b[0;32m      7\u001b[0m \u001b[0mprint\u001b[0m\u001b[1;33m(\u001b[0m\u001b[0mlista\u001b[0m\u001b[1;33m.\u001b[0m\u001b[0mindex\u001b[0m\u001b[1;33m(\u001b[0m\u001b[1;36m4\u001b[0m\u001b[1;33m)\u001b[0m\u001b[1;33m)\u001b[0m\u001b[1;33m\u001b[0m\u001b[0m\n\u001b[0;32m      8\u001b[0m \u001b[1;33m\u001b[0m\u001b[0m\n\u001b[1;32m----> 9\u001b[1;33m \u001b[0mprint\u001b[0m\u001b[1;33m(\u001b[0m\u001b[0mlista\u001b[0m\u001b[1;33m.\u001b[0m\u001b[0mindex\u001b[0m\u001b[1;33m(\u001b[0m\u001b[1;36m1\u001b[0m\u001b[1;33m)\u001b[0m\u001b[1;33m)\u001b[0m\u001b[1;33m\u001b[0m\u001b[0m\n\u001b[0m",
      "\u001b[1;31mValueError\u001b[0m: 1 is not in list"
     ]
    }
   ],
   "source": [
    "lista = [3, 4, 2, 9, 6]\n",
    "\n",
    "print(lista.index(4))\n",
    "\n",
    "lista.insert(0,4)\n",
    "print(lista)\n",
    "print(lista.index(4))\n",
    "\n",
    "print(lista.index(1))"
   ]
  },
  {
   "cell_type": "markdown",
   "metadata": {},
   "source": [
    "#### l.remove(x)\n",
    "Elimina la primera aparición de *x* en *l*. Si *x* no está presente en *l* lanza un error.\n",
    "\n",
    "#### del l[i]\n",
    "Elimina el elemento en la posición *i* de *l*\n",
    "\n",
    "#### l.pop([i])\n",
    "Elimina el último elemento de *l* y lo retorna. Si se entrega el parámetro opcional *i*, entonces elimina el elemento en la posición *i* y lo retorna.\n",
    "\n",
    "**Nota:** del l[i] y pop(i) son muy parecidos, solo que pop además de eliminar el elemento lo retorna para trabajar con él."
   ]
  },
  {
   "cell_type": "code",
   "execution_count": 6,
   "metadata": {},
   "outputs": [
    {
     "name": "stdout",
     "output_type": "stream",
     "text": [
      "['o', 'no', 'ser']\n",
      "['o', 'ser']\n",
      "['o']\n",
      "la última palabra era ser\n"
     ]
    }
   ],
   "source": [
    "lista = ['ser', 'o', 'no', 'ser']\n",
    "\n",
    "lista.remove('ser')\n",
    "print(lista)\n",
    "\n",
    "del lista[1]\n",
    "print(lista)\n",
    "\n",
    "ultima = lista.pop()\n",
    "print(lista)\n",
    "print('la última palabra era', ultima)"
   ]
  },
  {
   "cell_type": "markdown",
   "metadata": {},
   "source": [
    "#### l.sort()\n",
    "Ordena los elementos de *l* de menor a mayor\n",
    "\n",
    "#### l.reverse()\n",
    "Invierte *l*"
   ]
  },
  {
   "cell_type": "code",
   "execution_count": 4,
   "metadata": {},
   "outputs": [
    {
     "name": "stdout",
     "output_type": "stream",
     "text": [
      "[2, 3, 4, 4, 6, 9]\n",
      "[9, 6, 4, 4, 3, 2]\n"
     ]
    }
   ],
   "source": [
    "lista = [3,4,2,4,9,6]\n",
    "\n",
    "lista.sort()\n",
    "print(lista)\n",
    "\n",
    "lista.reverse()\n",
    "print(lista)"
   ]
  },
  {
   "cell_type": "markdown",
   "metadata": {},
   "source": [
    "### Métodos de string que involucran listas\n",
    "\n",
    "#### s.split(sep=None, maxsplit=-1)\n",
    "Retorna una lista de strings de *s*, usando *sep* como separador. Si se entrega el parámetro opcional *maxsplit*, a lo más se realizan *maxsplit* splits, por lo tanto la lista tendrá a lo más *maxsplit*+1 elementos\n",
    "\n",
    "Si no se entrega *sep*, entonces se utiliza como delimitador cualquier grupo de *whitespaces*"
   ]
  },
  {
   "cell_type": "code",
   "execution_count": 8,
   "metadata": {},
   "outputs": [
    {
     "name": "stdout",
     "output_type": "stream",
     "text": [
      "['1', '2,3']\n",
      "['Hola', 'soy', 'una', 'frase']\n"
     ]
    }
   ],
   "source": [
    "s = '1,2,3'\n",
    "print(s.split(',', 1))\n",
    "\n",
    "s = 'Hola soy una frase'\n",
    "print(s.split())"
   ]
  },
  {
   "cell_type": "markdown",
   "metadata": {},
   "source": [
    "#### s.join(iterable)\n",
    "Retorna un string que es la concatenación de los strings de *iterable*, separados por *s*"
   ]
  },
  {
   "cell_type": "code",
   "execution_count": 14,
   "metadata": {},
   "outputs": [
    {
     "name": "stdout",
     "output_type": "stream",
     "text": [
      "Hola soy una frase\n"
     ]
    }
   ],
   "source": [
    "s = ' '\n",
    "l = ['Hola', 'soy', 'una', 'frase']\n",
    "print(s.join(l))"
   ]
  },
  {
   "cell_type": "markdown",
   "metadata": {},
   "source": [
    "## Tuplas\n",
    "Las tuplas son ***secuencias inmutables***. El propósito de las tuplas es manejar colecciones heterogéneas de datos.\n",
    "\n",
    "#### Sintaxis\n",
    "\n",
    "tupla = ( elemento0, elemento1, ... )\n",
    "\n",
    "#### Ejemplos"
   ]
  },
  {
   "cell_type": "code",
   "execution_count": 4,
   "metadata": {},
   "outputs": [
    {
     "name": "stdout",
     "output_type": "stream",
     "text": [
      "()\n"
     ]
    }
   ],
   "source": [
    "tupla = ()\n",
    "print(tupla)"
   ]
  },
  {
   "cell_type": "code",
   "execution_count": 10,
   "metadata": {},
   "outputs": [
    {
     "name": "stdout",
     "output_type": "stream",
     "text": [
      "(1, 'hola')\n"
     ]
    }
   ],
   "source": [
    "tupla = (1, 'hola')\n",
    "print(tupla)"
   ]
  },
  {
   "cell_type": "markdown",
   "metadata": {},
   "source": [
    "## Actividades\n",
    "\n",
    "### Lista de reproducción\n",
    "Crear un programa que permita al usuario realizar las siguientes acciones sobre una lista de reproducción.\n",
    "1. Agregar una canción al final de la lista de reproducción\n",
    "2. Mostrar la lista de reproducción\n",
    "3. Reordenar la lista según orden alfabético\n",
    "4. Eliminar una canción de la lista por nombre\n",
    "5. Eliminar una canción de la lista por posición\n"
   ]
  },
  {
   "cell_type": "code",
   "execution_count": 31,
   "metadata": {},
   "outputs": [
    {
     "name": "stdout",
     "output_type": "stream",
     "text": [
      "Opciones:\n",
      "1) Agregar una canción al final de la lista de reproducción\n",
      "2) Mostrar la lista de reproducción\n",
      "3) Reordenar la lista según orden alfabético\n",
      "4) Eliminar una canción de la lista por nombre\n",
      "5) Eliminar una canción de la lista por posición\n",
      "6) Salir\n",
      "\n",
      "Opcion: 6\n",
      "Shao loh vimoh\n"
     ]
    }
   ],
   "source": [
    "print('''Opciones:\n",
    "1) Agregar una canción al final de la lista de reproducción\n",
    "2) Mostrar la lista de reproducción\n",
    "3) Reordenar la lista según orden alfabético\n",
    "4) Eliminar una canción de la lista por nombre\n",
    "5) Eliminar una canción de la lista por posición\n",
    "6) Salir\n",
    "''')\n",
    "lista = []\n",
    "continuar = True\n",
    "while continuar:\n",
    "    opcion = int(input(\"Opcion: \"))\n",
    "    if opcion == 1:\n",
    "        cancion = str(input(\"Nombre de la cancion: \"))\n",
    "        lista.append(cancion)\n",
    "    elif opcion == 2:\n",
    "        for i in range(len(lista)):\n",
    "            print('{} - {}'.format(i+1,lista[i]))\n",
    "    elif opcion == 3:\n",
    "        lista.sort()\n",
    "    elif opcion == 4:\n",
    "        cancion = str(input(\"Nombre de la cancion: \"))\n",
    "        while cancion not in lista:\n",
    "            cancion = str(input(\"Esa cancion no esta en la lista, ingresa otra: \")) \n",
    "        lista.remove(cancion)\n",
    "        print(\"Eliminaste la cancion\",cancion)\n",
    "    elif opcion == 5:\n",
    "        posicion = int(input(\"Posicion: \")) - 1\n",
    "        while posicion > len(lista):\n",
    "            posicion = int(input(\"No hay una cancion en esa posicion, ingresa otro numero: \"))\n",
    "        print(\"Eliminaste la cancion\", lista.pop(posicion))\n",
    "    elif opcion == 6:\n",
    "        print(\"Shao loh vimoh\")\n",
    "        continuar = False"
   ]
  },
  {
   "cell_type": "code",
   "execution_count": null,
   "metadata": {
    "collapsed": true
   },
   "outputs": [],
   "source": []
  }
 ],
 "metadata": {
  "anaconda-cloud": {},
  "kernelspec": {
   "display_name": "Python 3",
   "language": "python",
   "name": "python3"
  },
  "language_info": {
   "codemirror_mode": {
    "name": "ipython",
    "version": 3
   },
   "file_extension": ".py",
   "mimetype": "text/x-python",
   "name": "python",
   "nbconvert_exporter": "python",
   "pygments_lexer": "ipython3",
   "version": "3.6.2"
  }
 },
 "nbformat": 4,
 "nbformat_minor": 1
}
