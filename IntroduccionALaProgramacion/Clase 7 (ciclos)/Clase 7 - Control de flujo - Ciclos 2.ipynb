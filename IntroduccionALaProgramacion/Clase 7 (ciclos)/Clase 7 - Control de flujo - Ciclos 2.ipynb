{
 "cells": [
  {
   "cell_type": "markdown",
   "metadata": {},
   "source": [
    "# Clase 7\n",
    "\n",
    "## Control de flujo: ciclos\n",
    "\n",
    "### break\n",
    "\n",
    "Permite salir de un ciclo\n",
    "\n",
    "#### Ejemplo\n",
    "\n",
    "```python\n",
    "i = 0\n",
    "while True:\n",
    "    i += 1\n",
    "    print('Ciclo', i)\n",
    "\n",
    "```\n",
    "\n",
    "El código anterior es un ciclo infinito, ya que la condición del while es siempre ```True```. Podemos utilizar ```break```, para salir del ciclo cuando se alcance algún valor, por ejemplo, ```i==22```"
   ]
  },
  {
   "cell_type": "code",
   "execution_count": null,
   "metadata": {},
   "outputs": [],
   "source": [
    "i = 0\n",
    "while True:\n",
    "    i += 1\n",
    "    if i == 5:\n",
    "        break\n",
    "    print('Ciclo', i )\n",
    "    \n",
    "print('Fuera del ciclo', i)"
   ]
  },
  {
   "cell_type": "markdown",
   "metadata": {},
   "source": [
    "### continue:\n",
    "\n",
    "Regresa a la verificación de la condición, ignorando el resto del ciclo actual"
   ]
  },
  {
   "cell_type": "code",
   "execution_count": null,
   "metadata": {},
   "outputs": [],
   "source": [
    "i = 0\n",
    "while i < 15:\n",
    "    i += 1\n",
    "    if i%7 == 0:\n",
    "        continue\n",
    "    print('Ciclo', i)"
   ]
  },
  {
   "cell_type": "markdown",
   "metadata": {
    "collapsed": true
   },
   "source": [
    "### Observación\n",
    "Es posible mezclar todos los ```break``` y ```continue``` que uno desee"
   ]
  },
  {
   "cell_type": "code",
   "execution_count": null,
   "metadata": {},
   "outputs": [],
   "source": [
    "i = 0\n",
    "while True:\n",
    "    i += 1\n",
    "    if i == 15:\n",
    "        break\n",
    "    if i%5 == 0:\n",
    "        continue\n",
    "    print('Ciclo', i)\n",
    "\n",
    "print('Fuera del ciclo', i)"
   ]
  },
  {
   "cell_type": "markdown",
   "metadata": {},
   "source": [
    "### for\n",
    "Permite ejecutar un ciclo sobre una secuencia de valores\n",
    "\n",
    "#### sintaxis\n",
    "\n",
    "```python\n",
    "for i in SECUENCIA:\n",
    "    bloque_de_codigo_for\n",
    "    ...\n",
    "    ...\n",
    "    bloque_de_codigo_for\n",
    "\n",
    "codigo_fuera_de_for\n",
    "```\n",
    "\n",
    "SECUENCIA puede ser cualquier elemento iterable (más información en IIC2233 - Programación Avanzada). En nuestro caso podemos usar la función ```range``` que retorna un elemento iterable que representa un rango.\n",
    "\n",
    "#### range(fin)"
   ]
  },
  {
   "cell_type": "code",
   "execution_count": null,
   "metadata": {},
   "outputs": [],
   "source": [
    "for i in range(5):\n",
    "    print(i)"
   ]
  },
  {
   "cell_type": "markdown",
   "metadata": {},
   "source": [
    "El código anterior es equivalente a"
   ]
  },
  {
   "cell_type": "code",
   "execution_count": null,
   "metadata": {},
   "outputs": [],
   "source": [
    "i = 0\n",
    "while i < 5:\n",
    "    print(i)\n",
    "    i += 1"
   ]
  },
  {
   "cell_type": "markdown",
   "metadata": {},
   "source": [
    "#### range(inicio, fin)"
   ]
  },
  {
   "cell_type": "code",
   "execution_count": null,
   "metadata": {},
   "outputs": [],
   "source": [
    "for i in range(4, 10):\n",
    "    print(i)"
   ]
  },
  {
   "cell_type": "code",
   "execution_count": null,
   "metadata": {
    "collapsed": true
   },
   "outputs": [],
   "source": [
    "i = 4\n",
    "while i < 10:\n",
    "    print(i)\n",
    "    i += 1"
   ]
  },
  {
   "cell_type": "markdown",
   "metadata": {},
   "source": [
    "#### range(inicio, fin, paso)"
   ]
  },
  {
   "cell_type": "code",
   "execution_count": null,
   "metadata": {},
   "outputs": [],
   "source": [
    "for i in range(4, 20, 3):\n",
    "    print(i)"
   ]
  },
  {
   "cell_type": "code",
   "execution_count": null,
   "metadata": {
    "collapsed": true
   },
   "outputs": [],
   "source": [
    "i = 4\n",
    "while i < 20:\n",
    "    print(i)\n",
    "    i += 3"
   ]
  },
  {
   "cell_type": "code",
   "execution_count": null,
   "metadata": {},
   "outputs": [],
   "source": [
    "for i in range(30, 7, -5):\n",
    "    print(i)"
   ]
  },
  {
   "cell_type": "code",
   "execution_count": null,
   "metadata": {
    "collapsed": true
   },
   "outputs": [],
   "source": [
    "i = 30\n",
    "while i > 7:\n",
    "    print(i)\n",
    "    i -= 5"
   ]
  },
  {
   "cell_type": "markdown",
   "metadata": {},
   "source": [
    "Como habrán notado, para cada caso que usaba ```for``` había una formulación usando ```while``` equivalente. ¿Se cumplirá esto siempre? La respuesta es **sí**.\n",
    "No hay **NADA** que escriba con ```for``` que no se pueda hacer con ```while```. ¿Por qué usar for entonces?\n",
    "1. Menos código\n",
    "2. Código más fácil de leer"
   ]
  },
  {
   "cell_type": "markdown",
   "metadata": {},
   "source": [
    "## Actividades"
   ]
  },
  {
   "cell_type": "markdown",
   "metadata": {},
   "source": [
    "### Contando de 1 a n (versión for)\n",
    "Escribir un programa que solicite un número n al usuario e imprima todos los números desde 1 hasta n utilizando for"
   ]
  },
  {
   "cell_type": "code",
   "execution_count": null,
   "metadata": {},
   "outputs": [],
   "source": [
    "n = int(input(\"numero n: \"))\n",
    "for i in range(1,n+1):\n",
    "    print(i)"
   ]
  },
  {
   "cell_type": "markdown",
   "metadata": {},
   "source": [
    "### Pares de 1 a n (versión for)\n",
    "Escribir un programa que solicite un número n al usuario e imprima todos los números pares entre 1 y n"
   ]
  },
  {
   "cell_type": "code",
   "execution_count": null,
   "metadata": {},
   "outputs": [],
   "source": [
    "n = int(input(\"numero n: \"))\n",
    "for i in range(2,n,2):\n",
    "    print(i)"
   ]
  },
  {
   "cell_type": "markdown",
   "metadata": {},
   "source": [
    "### Primo (versión for)\n",
    "Escribir un programa que solicite un número n al usuario e indique si es primo o no. El programa debe terminar si el usuario ingresa el número 1.\n",
    "Utilizar for para verificar si n es primo o no."
   ]
  },
  {
   "cell_type": "code",
   "execution_count": null,
   "metadata": {},
   "outputs": [],
   "source": [
    "n = int(input())\n",
    "x = 2\n",
    "while x < n:\n",
    "    for i in range (2,n):\n",
    "        if (n % i == 0):\n",
    "            print(\"No es numero primo\")\n",
    "            x = -1\n",
    "            break\n",
    "        x += 1\n",
    "if x == 0:\n",
    "    h= n + x\n",
    "else:\n",
    "    print(\"Es numero primo\")"
   ]
  },
  {
   "cell_type": "code",
   "execution_count": null,
   "metadata": {
    "collapsed": true
   },
   "outputs": [],
   "source": []
  }
 ],
 "metadata": {
  "anaconda-cloud": {},
  "kernelspec": {
   "display_name": "Python 3",
   "language": "python",
   "name": "python3"
  },
  "language_info": {
   "codemirror_mode": {
    "name": "ipython",
    "version": 3
   },
   "file_extension": ".py",
   "mimetype": "text/x-python",
   "name": "python",
   "nbconvert_exporter": "python",
   "pygments_lexer": "ipython3",
   "version": "3.6.2"
  }
 },
 "nbformat": 4,
 "nbformat_minor": 1
}
