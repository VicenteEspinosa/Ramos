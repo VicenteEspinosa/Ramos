{
 "cells": [
  {
   "cell_type": "markdown",
   "metadata": {},
   "source": [
    "# 2016-2 P3"
   ]
  },
  {
   "cell_type": "code",
   "execution_count": 1,
   "metadata": {},
   "outputs": [
    {
     "name": "stdout",
     "output_type": "stream",
     "text": [
      "jugador 1? Miguel\n",
      "jugador 2? Geraldine\n",
      "El marcador del set va: Miguel 0 - Geraldine 0\n",
      "El marcador del set va: Miguel 0 - Geraldine 2\n",
      "El marcador del set va: Miguel 2 - Geraldine 3\n",
      "El marcador del set va: Miguel 3 - Geraldine 3\n",
      "El marcador del set va: Miguel 3 - Geraldine 5\n",
      "El marcador del set va: Miguel 4 - Geraldine 7\n",
      "El marcador del set va: Miguel 5 - Geraldine 7\n",
      "El marcador del set va: Miguel 6 - Geraldine 9\n",
      "El marcador del set va: Miguel 6 - Geraldine 11\n",
      "El marcador del set va: Miguel 7 - Geraldine 11\n",
      "----------------------\n",
      "El ganador del set es Geraldine\n",
      "El marcado de la partida va: Miguel 0 - Geraldine 1\n",
      "----------------------\n",
      "El marcador del set va: Miguel 0 - Geraldine 0\n",
      "El marcador del set va: Miguel 1 - Geraldine 0\n",
      "El marcador del set va: Miguel 2 - Geraldine 0\n",
      "El marcador del set va: Miguel 2 - Geraldine 1\n",
      "El marcador del set va: Miguel 3 - Geraldine 3\n",
      "El marcador del set va: Miguel 3 - Geraldine 4\n",
      "El marcador del set va: Miguel 4 - Geraldine 6\n",
      "El marcador del set va: Miguel 6 - Geraldine 7\n",
      "El marcador del set va: Miguel 7 - Geraldine 9\n",
      "El marcador del set va: Miguel 9 - Geraldine 10\n",
      "El marcador del set va: Miguel 9 - Geraldine 11\n",
      "----------------------\n",
      "El ganador del set es Geraldine\n",
      "El marcado de la partida va: Miguel 0 - Geraldine 2\n",
      "----------------------\n",
      "El ganador del partido es Geraldine\n"
     ]
    }
   ],
   "source": [
    "nombre_j1 = \"\" # pedir como input\n",
    "nombre_j2 = \"\" # pedir como input\n",
    "\n",
    "max_sets = 3\n",
    "necesarios_ganar = 2\n",
    "\n",
    "p_jugada_j1 = 0\n",
    "p_jugada_j2 = 0\n",
    "\n",
    "p_turno_j1 = 0\n",
    "p_turno_j2 = 0\n",
    "\n",
    "sets_g_j1 = 0\n",
    "sets_g_j2 = 0\n",
    "\n",
    "# hasta el mejor de 3 sets\n",
    "    # se juega set hasta 12 puntos\n",
    "        # jugadas validas\n",
    "\n",
    "import random\n",
    "def gen_jugada():\n",
    "    puntaje = random.randint(0, 2)\n",
    "    return puntaje\n",
    "\n",
    "#####\n",
    "# hasta el mejor de 3 sets\n",
    "#####\n",
    "nombre_j1 = input(\"jugador 1? \")\n",
    "nombre_j2 = input(\"jugador 2? \")\n",
    "\n",
    "# usamos while en vez de if, porque permite la repetición\n",
    "while sets_g_j1 < 2 and sets_g_j2 < 2:\n",
    "    #####\n",
    "    # se juega set hasta 12 puntos\n",
    "    #####\n",
    "\n",
    "    # if p_turno_j1 < 12 and p_turno_j2 < 12:\n",
    "    # si alguno llegó a 12 y la diferencia es mayor que 2\n",
    "\n",
    "    p_turno_j1 = 0\n",
    "    p_turno_j2 = 0\n",
    "    \n",
    "    # usamos while en vez de if, porque permite la repetición\n",
    "    while p_turno_j1 < 12 and p_turno_j2 < 12 or \\\n",
    "        ((p_turno_j1>= 12 or p_turno_j2>=12) and \\\n",
    "         abs(p_turno_j1-p_turno_j2) < 2):\n",
    "\n",
    "        #####\n",
    "        # jugadas validas\n",
    "        #####\n",
    "        p_jugada_j1 = gen_jugada()\n",
    "        p_jugada_j2 = gen_jugada()\n",
    "\n",
    "        #if p_jugada_j1 == p_jugada_j2:\n",
    "        while p_jugada_j1 == p_jugada_j2:\n",
    "            p_jugada_j1 = gen_jugada()\n",
    "            p_jugada_j2 = gen_jugada()\n",
    "        # ahora tengo jugadas validas!!\n",
    "        print(\"El marcador del set va:\", nombre_j1, p_turno_j1,\"-\",nombre_j2, p_turno_j2)\n",
    "        #print(\"El marcador del set va:\"+str(nombre_j1)+\"\"+nombre_j2)\n",
    "\n",
    "        p_turno_j1 += p_jugada_j1\n",
    "        p_turno_j2 += p_jugada_j2\n",
    "\n",
    "    print(\"----------------------\")\n",
    "    if p_turno_j1 > p_turno_j2:\n",
    "        sets_g_j1 += 1\n",
    "        print(\"El ganador del set es\", nombre_j1)\n",
    "    else:\n",
    "        sets_g_j2 += 1\n",
    "        print(\"El ganador del set es\", nombre_j2)\n",
    "    print(\"El marcado de la partida va:\", nombre_j1, sets_g_j1,\"-\", nombre_j2, sets_g_j2)\n",
    "    print(\"----------------------\")\n",
    "\n",
    "if sets_g_j1 == 2:\n",
    "    print(\"El ganador del partido es\", nombre_j1)\n",
    "else:\n",
    "    print(\"El ganador del partido es\", nombre_j2)\n",
    "\n",
    "\n",
    "\n",
    "\n"
   ]
  },
  {
   "cell_type": "markdown",
   "metadata": {},
   "source": [
    "# 2016-2 P2"
   ]
  },
  {
   "cell_type": "code",
   "execution_count": 2,
   "metadata": {
    "collapsed": true
   },
   "outputs": [],
   "source": [
    "####\n",
    "# Ponernos en el caso de si tubiesemos que comparar \n",
    "# dos strings inmensamente largos. En este caso tenemos\n",
    "# que crear un algoritmo que nos permita resolver el problema\n",
    "# sin saltarnos pasos\n",
    "####\n",
    "\n",
    "def mas_largo_comun(s1,s2):\n",
    "\n",
    "    # el caso más largo es que todo el string más corto\n",
    "    # sea substring del string más largo\n",
    "    s_string = s1\n",
    "    l_string = s2\n",
    "    if len(s1) > len(s2):\n",
    "        s_string = s2\n",
    "        l_string = s1\n",
    "    \n",
    "    # hasta aquí s_string guarda al string más corto\n",
    "    # y l_string guarda al string más largo\n",
    "\n",
    "    # este es el actual subtring más largo\n",
    "    current_winner = \"\"\n",
    "    \n",
    "    # pivoteamos en i\n",
    "    for i in range(len(s1)):\n",
    "        # de i hasta j, donde j siempre es mayor que i\n",
    "        for j in range(i+1, len(s1)+1):\n",
    "            sub_string = s_string[i:j]\n",
    "            if sub_string in l_string and len(sub_string) > len(current_winner):\n",
    "                current_winner = sub_string\n",
    "\n",
    "    return current_winner"
   ]
  },
  {
   "cell_type": "code",
   "execution_count": 5,
   "metadata": {},
   "outputs": [
    {
     "name": "stdout",
     "output_type": "stream",
     "text": [
      "ion\n",
      "e\n",
      "ente\n",
      "\n",
      "en\n"
     ]
    }
   ],
   "source": [
    "print(mas_largo_comun('camion','cancion'))# retorna 'ion'\n",
    "print(mas_largo_comun('emu','avestruz'))# retorna 'e'\n",
    "print(mas_largo_comun('puentes','mente'))# retorna 'ente'\n",
    "print(mas_largo_comun('cae','loro'))# retorna ''\n",
    "print(mas_largo_comun('puentes','imagenes'))# retorna 'en'"
   ]
  },
  {
   "cell_type": "code",
   "execution_count": null,
   "metadata": {
    "collapsed": true
   },
   "outputs": [],
   "source": []
  }
 ],
 "metadata": {
  "kernelspec": {
   "display_name": "Python 3",
   "language": "python",
   "name": "python3"
  },
  "language_info": {
   "codemirror_mode": {
    "name": "ipython",
    "version": 3
   },
   "file_extension": ".py",
   "mimetype": "text/x-python",
   "name": "python",
   "nbconvert_exporter": "python",
   "pygments_lexer": "ipython3",
   "version": "3.6.2"
  }
 },
 "nbformat": 4,
 "nbformat_minor": 2
}
