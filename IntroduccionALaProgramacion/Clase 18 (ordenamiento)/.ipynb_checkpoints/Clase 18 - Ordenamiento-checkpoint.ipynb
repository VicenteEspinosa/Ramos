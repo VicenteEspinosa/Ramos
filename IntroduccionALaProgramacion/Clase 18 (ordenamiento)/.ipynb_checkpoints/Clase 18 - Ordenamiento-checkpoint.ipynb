{
 "cells": [
  {
   "cell_type": "markdown",
   "metadata": {},
   "source": [
    "# Ordenamiento\n",
    "Vimos que para buscar elementos en una lista, si ésta está ordenada, entonces se pueden utilizar algoritmos más rápidos. En particular, si la lista tiene **n** elementos y está ordenada, se puede utilizar búsqueda binaria, que realizará a lo más $log_2(n)$ operaciones aproximadamente.\n",
    "\n",
    "¿Cómo podemos ordenar una lista?"
   ]
  },
  {
   "cell_type": "code",
   "execution_count": null,
   "metadata": {},
   "outputs": [],
   "source": [
    "l = [3, 6, 2, 6, 1, 2, 7, 5, 123, 234, 42, 2]\n",
    "l.sort()\n",
    "print(l)"
   ]
  },
  {
   "cell_type": "markdown",
   "metadata": {},
   "source": [
    "Ok, ¿pero qué es lo que hace el métood *sort*? Utiliza un algoritmo de ordenamiento (en particular utiliza Timsort, una variante de Mergesort, que veremos más adelante). \n",
    "\n",
    "2 de los algormitmos más sencillos para ordenar son selection sort e insertion sort:\n",
    "\n",
    "## Selection sort\n",
    "\n",
    "La lista se separa en 2 partes, la de los elementos ya ordenados, y la de elementos por ordenar. En cada iteración, se busca el elemento mínimo de los que quedan por ordenar, y se deja al final de la lista de ya ordenados:\n",
    "\n",
    "Recorrer cada posición de la lista **l** (desde 0 hasta len(l)-2)\n",
    "- Sea **i** la posición actual\n",
    "- Sea **j** el índice del elemento mínimo en **l[i:]**\n",
    "- Intercambiar el elemento en **i** por el elemento en **j**\n",
    "\n",
    "![selection](selection.gif 'selection sort')"
   ]
  },
  {
   "cell_type": "code",
   "execution_count": null,
   "metadata": {},
   "outputs": [],
   "source": [
    "def selection_sort(lista):\n",
    "    for i in range(len(lista) - 1):\n",
    "        \n",
    "        indice_minimo = i\n",
    "        for j in range(i + 1, len(lista)):\n",
    "            if lista[j] < lista[indice_minimo]:\n",
    "                indice_minimo = j\n",
    "                \n",
    "        auxiliar = lista[indice_minimo]\n",
    "        lista[indice_minimo] = lista[i]\n",
    "        lista[i] = auxiliar\n",
    "\n",
    "        \n",
    "l = [3, 6, 2, 6, 1, 2, 7, 5, 123, 234, 42, 2]\n",
    "selection_sort(l)\n",
    "print(l)"
   ]
  },
  {
   "cell_type": "markdown",
   "metadata": {},
   "source": [
    "## Insertion sort\n",
    "Se recorre la lista y se verifica que ningún elemento tenga a uno de mayor valor a su izquierda. Si lo tiene, entonces se intercambian.\n",
    "\n",
    "Recorrer cada posición de la lista **l** (desde 1 hasta len(l)-1)\n",
    "- Sea **i** la posición actual\n",
    "- Sea **j** = **i - 1**\n",
    "- Mientras **j** sea mayor o igual a 0 y el elemento en **i** sea menor que el elemento en **j**\n",
    "    - Intercambiar los elementos en **i** y **j**\n",
    "    - Asignar **i** = **j**\n",
    "    - Asignar **j** = **j-1**\n",
    "\n",
    "![insertion](insertion.gif 'insertion sort')"
   ]
  },
  {
   "cell_type": "code",
   "execution_count": null,
   "metadata": {},
   "outputs": [],
   "source": [
    "def insertion_sort(lista):\n",
    "    for i in range(1, len(lista)):\n",
    "        \n",
    "        j = i - 1\n",
    "        \n",
    "        while j >= 0 and lista[i] < lista[j]:\n",
    "            auxiliar = lista[j]\n",
    "            lista[j] = lista[i]\n",
    "            lista[i] = auxiliar\n",
    "            \n",
    "            i = j\n",
    "            j -= 1\n",
    "            \n",
    "\n",
    "        \n",
    "l = [3, 6, 2, 6, 1, 2, 7, 5, 123, 234, 42, 2]\n",
    "selection_sort(l)\n",
    "print(l)"
   ]
  },
  {
   "cell_type": "markdown",
   "metadata": {},
   "source": [
    "Si la lista tiene **n** elementos, ambos algoritmos realizan del orden de $n^2$ operaciones.\n",
    "\n"
   ]
  },
  {
   "cell_type": "markdown",
   "metadata": {},
   "source": [
    "## Actividades\n",
    "\n",
    "### Analizando el número de operaciones\n",
    "Generar 10 listas con $10^i$ enteros, con i=2..4. Para cada una de las listas de un determinado $i$, copiar la lista y aplicar selection sort sobre la lista original e insertion sort sobre la copia. Imprimir el número de operaciones promedio de cada algoritmo para cada valor de $i$."
   ]
  },
  {
   "cell_type": "code",
   "execution_count": null,
   "metadata": {},
   "outputs": [],
   "source": [
    "#Código análisis"
   ]
  },
  {
   "cell_type": "markdown",
   "metadata": {
    "collapsed": true
   },
   "source": [
    "### Ordenando Personas\n",
    "Dada la clase Persona definida más abajo, modificar cualquiera de los 2 algoritmos vistos anteriormente para poder ordenar una lista de Personas según su edad"
   ]
  },
  {
   "cell_type": "code",
   "execution_count": null,
   "metadata": {},
   "outputs": [],
   "source": [
    "from random import randint\n",
    "\n",
    "class Persona:\n",
    "    \n",
    "    def __init__(self, nombre, edad):\n",
    "        self.nombre = nombre\n",
    "        self.edad = edad\n",
    "        \n",
    "    #Este método es como el __str__, pero entre otras cosas, permite que al hacer print de una lista de instancias de la clase\n",
    "    #se vea lo retornado por este método\n",
    "    def __repr__(self):\n",
    "        return '{} ({})'.format(self.nombre, self.edad)\n",
    "    \n",
    "    \n",
    "personas = [Persona('Felipe', 28), Persona('Geraldine', 23), Persona('Miguel', 25), Persona('Alejandro',24)]    \n",
    "print(personas)\n",
    "\n",
    "#Acá se llama al sort sobre la lista de personas\n",
    "\n",
    "\n",
    "#Este print debería mostrar las personas ordenadas\n",
    "print(personas)\n"
   ]
  },
  {
   "cell_type": "markdown",
   "metadata": {},
   "source": [
    "## Extra: \n",
    "Es posible utilizar el sort de las listas cuando estas tienen objetos.\n",
    "\n",
    "### Definir ```__lt__```\n",
    "Si se define el método ```__lt__``` para la clase, entonces al aplicar sort a una lista de objetos de la clase, se ordenarán de menor a mayor según el orden definido por la comparación \"<\"."
   ]
  },
  {
   "cell_type": "code",
   "execution_count": null,
   "metadata": {},
   "outputs": [],
   "source": [
    "class Persona:\n",
    "    \n",
    "    def __init__(self, nombre, edad):\n",
    "        self.nombre = nombre\n",
    "        self.edad = edad\n",
    "        \n",
    "    #Este método es como el __str__, pero entre otras cosas, permite que al hacer print de una lista de instancias de la clase\n",
    "    #se vea lo retornado por este método\n",
    "    def __repr__(self):\n",
    "        return '{} ({})'.format(self.nombre, self.edad)\n",
    "    \n",
    "    def __lt__(self, other):\n",
    "        return self.edad < other.edad\n",
    "    \n",
    "    \n",
    "personas = [Persona('Felipe', 28), Persona('Geraldine', 23), Persona('Miguel', 25), Persona('Alejandro',24)]    \n",
    "print(personas)\n",
    "\n",
    "personas.sort()\n",
    "print(personas)"
   ]
  },
  {
   "cell_type": "markdown",
   "metadata": {},
   "source": [
    "### Parámetro key del método sort\n",
    "También, se puede entregar el parámetro key al método sort, que recibe una función. Esta función debe recibir un elemento de la lista y retornar el valor según el cual se va a realizar el ordenamiento."
   ]
  },
  {
   "cell_type": "code",
   "execution_count": null,
   "metadata": {},
   "outputs": [],
   "source": [
    "class Persona:\n",
    "    \n",
    "    def __init__(self, nombre, edad):\n",
    "        self.nombre = nombre\n",
    "        self.edad = edad\n",
    "        \n",
    "    #Este método es como el __str__, pero entre otras cosas, permite que al hacer print de una lista de instancias de la clase\n",
    "    #se vea lo retornado por este método\n",
    "    def __repr__(self):\n",
    "        return '{} ({})'.format(self.nombre, self.edad)\n",
    "    \n",
    "    \n",
    "def getEdad(persona):\n",
    "    return persona.edad\n",
    "    \n",
    "def getNombre(persona):\n",
    "    return persona.nombre\n",
    "\n",
    "personas = [Persona('Felipe', 21), Persona('Miguel', 24), Persona('Vicente', 22), Persona('Thomas',21)]\n",
    "print(personas)\n",
    "\n",
    "personas.sort(key=getEdad)\n",
    "print(personas)\n",
    "\n",
    "personas.sort(key=getNombre)\n",
    "print(personas)"
   ]
  }
 ],
 "metadata": {
  "kernelspec": {
   "display_name": "Python 3",
   "language": "python",
   "name": "python3"
  },
  "language_info": {
   "codemirror_mode": {
    "name": "ipython",
    "version": 3
   },
   "file_extension": ".py",
   "mimetype": "text/x-python",
   "name": "python",
   "nbconvert_exporter": "python",
   "pygments_lexer": "ipython3",
   "version": "3.6.2"
  }
 },
 "nbformat": 4,
 "nbformat_minor": 1
}
