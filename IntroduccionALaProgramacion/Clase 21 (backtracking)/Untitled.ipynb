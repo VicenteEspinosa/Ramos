{
 "cells": [
  {
   "cell_type": "code",
   "execution_count": 21,
   "metadata": {},
   "outputs": [
    {
     "ename": "TypeError",
     "evalue": "back() missing 1 required positional argument: 'maximo'",
     "output_type": "error",
     "traceback": [
      "\u001b[1;31m---------------------------------------------------------------------------\u001b[0m",
      "\u001b[1;31mTypeError\u001b[0m                                 Traceback (most recent call last)",
      "\u001b[1;32m<ipython-input-21-08bc80475a1d>\u001b[0m in \u001b[0;36m<module>\u001b[1;34m()\u001b[0m\n\u001b[0;32m     20\u001b[0m                     \u001b[0mfinal\u001b[0m \u001b[1;33m=\u001b[0m \u001b[0mlista1\u001b[0m\u001b[1;33m\u001b[0m\u001b[0m\n\u001b[0;32m     21\u001b[0m     \u001b[1;32mreturn\u001b[0m\u001b[1;33m(\u001b[0m\u001b[0mlista1\u001b[0m\u001b[1;33m,\u001b[0m\u001b[0mterreno1\u001b[0m\u001b[1;33m)\u001b[0m\u001b[1;33m\u001b[0m\u001b[0m\n\u001b[1;32m---> 22\u001b[1;33m \u001b[0mback\u001b[0m\u001b[1;33m(\u001b[0m\u001b[0mlista\u001b[0m\u001b[1;33m,\u001b[0m\u001b[0mlimite\u001b[0m\u001b[1;33m,\u001b[0m\u001b[0magua\u001b[0m\u001b[1;33m,\u001b[0m\u001b[0mlista1\u001b[0m\u001b[1;33m,\u001b[0m\u001b[0mvegetal\u001b[0m\u001b[1;33m,\u001b[0m\u001b[0magua1\u001b[0m\u001b[1;33m,\u001b[0m\u001b[0mterreno1\u001b[0m\u001b[1;33m)\u001b[0m\u001b[1;33m\u001b[0m\u001b[0m\n\u001b[0m\u001b[0;32m     23\u001b[0m \u001b[1;33m\u001b[0m\u001b[0m\n",
      "\u001b[1;31mTypeError\u001b[0m: back() missing 1 required positional argument: 'maximo'"
     ]
    }
   ],
   "source": [
    "lista =  [['Tomates',2,20], ['Lechugas',1,80], ['Paltas',2,40], ['Quinoa',2,20], ['Melones',4,80]]\n",
    "limite = 8\n",
    "agua = 140\n",
    "lista1 = []\n",
    "vegetal = [0,0,0]\n",
    "agua1 = 0\n",
    "terreno1 = 0\n",
    "maximo = 0\n",
    "def back(lista,limite,agua,lista1,vegetal,agua1,terreno1,maximo):\n",
    "    if len(lista) > 0:\n",
    "        if ((terreno1 + vegetal[1]) <= limite) and ((agua1 + vegetal[2]) <= agua):\n",
    "            if vegetal in lista:\n",
    "                terreno1 += vegetal[1]\n",
    "                agua1 += vegetal[2]\n",
    "                lista1.append(vegetal)\n",
    "                lista.remove(vegetal)\n",
    "            for vegetal in lista:\n",
    "                lista2,terreno2 = back(lista,limite,agua,lista1,vegetal,agua1,terreno1,maximo)\n",
    "                if terreno2 > maximo:\n",
    "                    final = lista1\n",
    "    return(lista1,terreno1)\n",
    "back(lista,limite,agua,lista1,vegetal,agua1,terreno1)\n",
    "        "
   ]
  },
  {
   "cell_type": "code",
   "execution_count": null,
   "metadata": {
    "collapsed": true
   },
   "outputs": [],
   "source": []
  }
 ],
 "metadata": {
  "kernelspec": {
   "display_name": "Python 3",
   "language": "python",
   "name": "python3"
  },
  "language_info": {
   "codemirror_mode": {
    "name": "ipython",
    "version": 3
   },
   "file_extension": ".py",
   "mimetype": "text/x-python",
   "name": "python",
   "nbconvert_exporter": "python",
   "pygments_lexer": "ipython3",
   "version": "3.6.2"
  }
 },
 "nbformat": 4,
 "nbformat_minor": 2
}
