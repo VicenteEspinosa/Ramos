{
 "cells": [
  {
   "cell_type": "markdown",
   "metadata": {},
   "source": [
    "# Backtracking\n",
    "El backtracking es una técnica para encontrar soluciones a problemas. Se van generando soluciones parciales de manera incremental, y en cuanto se identifica que una solución parcial *c* no puede completarse hacia una solución válida, se abandona esa solución y se vuelve (*backtrack*) hacia la solución candidata desde donde se generó *c*.\n",
    "\n",
    "#### Ejemplo: Resolver laberinto\n",
    "![maze](maze.gif 'maze')\n",
    "\n",
    "#### Ejemplo\n",
    "Crear un programa que imprima todos los strings de largo 3 que se pueden formar a partir de las letras 'a', 'b' y 'c'"
   ]
  },
  {
   "cell_type": "code",
   "execution_count": 4,
   "metadata": {},
   "outputs": [
    {
     "name": "stdout",
     "output_type": "stream",
     "text": [
      "aaa\n",
      "aab\n",
      "aac\n",
      "aba\n",
      "abb\n",
      "abc\n",
      "aca\n",
      "acb\n",
      "acc\n",
      "baa\n",
      "bab\n",
      "bac\n",
      "bba\n",
      "bbb\n",
      "bbc\n",
      "bca\n",
      "bcb\n",
      "bcc\n",
      "caa\n",
      "cab\n",
      "cac\n",
      "cba\n",
      "cbb\n",
      "cbc\n",
      "cca\n",
      "ccb\n",
      "ccc\n"
     ]
    }
   ],
   "source": [
    "def permutaciones(s):\n",
    "    if len(s) == 3:\n",
    "        print(s)\n",
    "        return\n",
    "    \n",
    "    for letra in ['a', 'b', 'c']:\n",
    "        permutaciones(s + letra)\n",
    "        \n",
    "permutaciones('')"
   ]
  },
  {
   "cell_type": "markdown",
   "metadata": {},
   "source": [
    "¿Cómo funciona el código anterior? Revisemos el caso de las permutaciones de largo 2 que se forman a partir de 'a' y 'b'\n",
    "\n",
    "![perm1](perm1.png 'perm1')\n",
    "![perm2](perm2.png 'perm2')\n",
    "![perm3](perm3.png 'perm3')\n",
    "![perm4](perm4.png 'perm4')\n",
    "![perm5](perm5.png 'perm5')\n",
    "![perm6](perm6.png 'perm6')\n",
    "![perm7](perm7.png 'perm7')\n",
    "![perm8](perm8.png 'perm8')\n",
    "![perm9](perm9.png 'perm9')\n",
    "![perm10](perm10.png 'perm10')\n",
    "![perm11](perm11.png 'perm11')\n",
    "![perm12](perm12.png 'perm12')\n",
    "![perm13](perm13.png 'perm13')"
   ]
  },
  {
   "cell_type": "markdown",
   "metadata": {
    "collapsed": true
   },
   "source": [
    "¿Cuáles son los elementos principales de una solución mediante backtracking?\n",
    "- Nodos o estados (S):\n",
    "    - Definen el estado actual de la búsqueda\n",
    "- Estado inicial ($s_0$)\n",
    "    - Estado en el que parte la búsqueda\n",
    "- Aristas o acciones (A):\n",
    "    - Llevan de un estado al siguiente\n",
    "- Caso base o estados objetivos\n",
    "    - Estados en los que retorno sin hacer otros llamados recursivos\n",
    "    \n",
    "![perm0](perm0.png 'perm0')\n",
    "\n",
    "- S: Strings de largo menor o igual a 2 formados por 'a' y 'b'\n",
    "- $s_0$: String de largo 0 ('')\n",
    "- A: Agregar una 'a' o una 'b'\n",
    "- G: Strings de largo 2\n",
    "\n",
    "## Estructura general de una solución recursiva\n",
    "\n",
    "```python\n",
    "def backtracking(s):\n",
    "    #Caso base: verifico si 's' está en G\n",
    "    if es_objetivo(s):\n",
    "        return ... #Retorno algún valor de interés\n",
    "        \n",
    "    #Recorro los sucesores de s\n",
    "    for sucesor in sucesores(s):\n",
    "        #Me aseguro de no haber revisado 'sucesor' antes\n",
    "        if no_ha_sido_explorado(sucesor):\n",
    "            #Realizo llamado recursivo\n",
    "            valor = backtracking(sucesor)\n",
    "            ... #de ser necesario uso valor\n",
    "            \n",
    "    ... #Podría ser necesario retornar 'algo' luego de revisar los sucesores\n",
    "    \n",
    "```"
   ]
  },
  {
   "cell_type": "markdown",
   "metadata": {},
   "source": [
    "## Actividades\n",
    "\n",
    "### Formar números\n",
    "Escriber una función recursiva que reciba una lista de números y un número final. La función retorna True si el número final se puede formar a partir de la suma de números de la lista.\n",
    "Ejemplo\n",
    "```python\n",
    "L = [5, 3, 9]\n",
    "n = 31\n",
    "```\n",
    "verificar(L, n) retorna True porque 31 = 2 x 9 + 2 x 5 + 1 x 3"
   ]
  },
  {
   "cell_type": "code",
   "execution_count": 26,
   "metadata": {},
   "outputs": [
    {
     "name": "stdout",
     "output_type": "stream",
     "text": [
      "True\n"
     ]
    }
   ],
   "source": [
    "l = [5, 3, 9]\n",
    "n = 31\n",
    "real = False\n",
    "def back(l,n):\n",
    "    if n == 0:\n",
    "        return True\n",
    "    if n < 0:\n",
    "        return False\n",
    "    for numero in l:\n",
    "        if back(l, n - numero):\n",
    "            return True\n",
    "    return False\n",
    "print(back(l,n))"
   ]
  },
  {
   "cell_type": "code",
   "execution_count": null,
   "metadata": {},
   "outputs": [],
   "source": []
  },
  {
   "cell_type": "code",
   "execution_count": null,
   "metadata": {
    "collapsed": true
   },
   "outputs": [],
   "source": []
  }
 ],
 "metadata": {
  "kernelspec": {
   "display_name": "Python 3",
   "language": "python",
   "name": "python3"
  },
  "language_info": {
   "codemirror_mode": {
    "name": "ipython",
    "version": 3
   },
   "file_extension": ".py",
   "mimetype": "text/x-python",
   "name": "python",
   "nbconvert_exporter": "python",
   "pygments_lexer": "ipython3",
   "version": "3.6.2"
  }
 },
 "nbformat": 4,
 "nbformat_minor": 1
}
