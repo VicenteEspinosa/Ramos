{
 "cells": [
  {
   "cell_type": "markdown",
   "metadata": {},
   "source": [
    "# Mergesort\n",
    "Vimos anteriormente algoritmos que nos permiten ordenar listas. En el caso de selection sort e insertion sort, en el peor caso ambos algoritmos realizaban del orden de $n^2$ operaciones. ¿Se podrá ordenar realizando menos operaciones que eso?\n",
    "\n",
    "La respuesta es sí. Existen algoritmos de ordenamiento que en su peor caso realizan del orden de $n * log(n)$ operaciones. Uno de estos algoritmos es mergesort que consiste en lo siguiente:\n",
    "\n",
    "1. Dividir la lista desordenada en $n$ sublistas, cada una con 1 elemento (una lista de 1 elemento se considera ordenada)\n",
    "2. Mezclar (*merge*) sublistas para producir nuevas sublistas ordenadas hasta que solo quede una sublista. Esta será la lista ordenada\n",
    "\n",
    "![mergesort](mergesort.gif 'Mergesort')\n",
    "\n",
    "Este es un clásico ejemplo de algoritmo recursivo:"
   ]
  },
  {
   "cell_type": "code",
   "execution_count": 14,
   "metadata": {},
   "outputs": [
    {
     "name": "stdout",
     "output_type": "stream",
     "text": [
      "[1, 2, 3, 4, 5, 6, 7, 8]\n"
     ]
    }
   ],
   "source": [
    "def mergesort(lista):\n",
    "    largo = len(lista)\n",
    "    if largo <= 1:\n",
    "        return lista\n",
    "    \n",
    "    #aplicamos mergesort en la mitad de la izquierda y de la derecha\n",
    "    mitad = largo//2\n",
    "    izquierda = mergesort(lista[:mitad])\n",
    "    derecha = mergesort(lista[mitad:])\n",
    "    \n",
    "    #retornamos la mezcla de ambas sublistas ordenadas\n",
    "    return merge(izquierda, derecha)\n",
    "\n",
    "def merge(izquierda, derecha):\n",
    "    mezcla = []\n",
    "    \n",
    "    #mientras queden elementos en la lista de la izquierda y de la derecha\n",
    "    while len(izquierda) > 0 and len(derecha) > 0:\n",
    "        if izquierda[0] <= derecha[0]:\n",
    "            #recordar que lista.pop(0) retorna el primer elemento de lista y lo remueve de la lista\n",
    "            mezcla.append(izquierda.pop(0))\n",
    "        else:\n",
    "            mezcla.append(derecha.pop(0))\n",
    "            \n",
    "    #agregamos los elementos restantes de la lista izquierda y derecha.\n",
    "    #solo 1 de las 2 concatenaciones agregará elemementos a mezcla\n",
    "    mezcla += izquierda\n",
    "    mezcla += derecha\n",
    "    return mezcla\n",
    "\n",
    "a = [6, 5, 3, 1, 8 , 7, 2, 4]\n",
    "print(mergesort(a))"
   ]
  },
  {
   "cell_type": "markdown",
   "metadata": {},
   "source": [
    "## Actividades\n",
    "### Búsqueda binaria recursiva\n",
    "Modificar el siguiente código para que funcione de manera recursiva. Se pueden definir funciones auxiliares\n",
    "```python\n",
    "def busqueda_binaria(lista, elemento):\n",
    "    inicio = 0\n",
    "    fin = len(lista) - 1\n",
    "    while inicio <= fin:\n",
    "        mitad = (inicio + fin)//2\n",
    "        if elemento < lista[mitad]:\n",
    "            fin = mitad - 1\n",
    "        elif elemento > lista[mitad]:\n",
    "            inicio = mitad + 1\n",
    "        else:\n",
    "            return mitad\n",
    "    \n",
    "    return -1\n",
    "```"
   ]
  },
  {
   "cell_type": "code",
   "execution_count": 22,
   "metadata": {},
   "outputs": [],
   "source": []
  },
  {
   "cell_type": "markdown",
   "metadata": {},
   "source": [
    "## Comparación mergesort y selection sort\n",
    "\n",
    "Generar 10 listas con $10^i$ enteros, con i=2..7. Para cada una de las listas de un determinado $i$, copiar la lista y aplicar selection sort sobre la lista original y mergesort sobre la copia. Imprimir el número de operaciones promedio de cada algoritmo para cada valor de $i$.\n",
    "\n",
    "\n",
    "```python\n",
    "def selection_sort(lista):\n",
    "    operaciones = 0\n",
    "    for i in range(len(lista) - 1):\n",
    "        operaciones += 1\n",
    "        \n",
    "        indice_minimo = i\n",
    "        for j in range(i + 1, len(lista)):\n",
    "            operaciones += 1\n",
    "            \n",
    "            if lista[j] < lista[indice_minimo]:\n",
    "                indice_minimo = j\n",
    "                \n",
    "        auxiliar = lista[indice_minimo]\n",
    "        lista[indice_minimo] = lista[i]\n",
    "        lista[i] = auxiliar\n",
    "\n",
    "    return operaciones\n",
    "```\n",
    "\n",
    "PD: Hay que modificar mergesort para que además de retornar la lista ordenada retorne el número de operaciones (o llamados recursivos)"
   ]
  },
  {
   "cell_type": "code",
   "execution_count": null,
   "metadata": {
    "collapsed": true
   },
   "outputs": [],
   "source": [
    "#Código comparación"
   ]
  }
 ],
 "metadata": {
  "kernelspec": {
   "display_name": "Python 3",
   "language": "python",
   "name": "python3"
  },
  "language_info": {
   "codemirror_mode": {
    "name": "ipython",
    "version": 3
   },
   "file_extension": ".py",
   "mimetype": "text/x-python",
   "name": "python",
   "nbconvert_exporter": "python",
   "pygments_lexer": "ipython3",
   "version": "3.6.2"
  }
 },
 "nbformat": 4,
 "nbformat_minor": 1
}
