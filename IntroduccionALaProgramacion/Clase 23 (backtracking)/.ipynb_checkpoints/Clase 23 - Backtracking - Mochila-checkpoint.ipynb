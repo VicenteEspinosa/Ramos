{
 "cells": [
  {
   "cell_type": "markdown",
   "metadata": {
    "collapsed": true
   },
   "source": [
    "# Problema de la mochila\n",
    "Escribir una función que reciba una lista de productos y un límite de peso y retorne una lista de productos cuya suma sea la mayor posible sin sobrepasar el límite"
   ]
  },
  {
   "cell_type": "code",
   "execution_count": 1,
   "metadata": {},
   "outputs": [
    {
     "name": "stdout",
     "output_type": "stream",
     "text": [
      "[['nombre chistoso 4', 2], ['nombre chistoso 10', 1]]\n",
      "[['nombre chistoso 4', 2], ['nombre chistoso 6', 7], ['nombre chistoso 10', 1]]\n",
      "[]\n"
     ]
    }
   ],
   "source": [
    "productos = [['nombre chistoso 1', 10],\n",
    "             ['nombre chistoso 2', 5],\n",
    "             ['nombre chistoso 3', 20],\n",
    "             ['nombre chistoso 4', 2],\n",
    "             ['nombre chistoso 5', 34],\n",
    "             ['nombre chistoso 6', 7],\n",
    "             ['nombre chistoso 7', 22],\n",
    "             ['nombre chistoso 8', 60],\n",
    "             ['nombre chistoso 9', 11],\n",
    "             ['nombre chistoso 10', 1],\n",
    "            ]\n",
    "\n",
    "print(buscar(productos, 4))\n",
    "print(buscar(productos, 10))\n",
    "print(buscar(productos, 0))"
   ]
  }
 ],
 "metadata": {
  "anaconda-cloud": {},
  "kernelspec": {
   "display_name": "Python 3",
   "language": "python",
   "name": "python3"
  },
  "language_info": {
   "codemirror_mode": {
    "name": "ipython",
    "version": 3
   },
   "file_extension": ".py",
   "mimetype": "text/x-python",
   "name": "python",
   "nbconvert_exporter": "python",
   "pygments_lexer": "ipython3",
   "version": "3.6.2"
  }
 },
 "nbformat": 4,
 "nbformat_minor": 1
}
