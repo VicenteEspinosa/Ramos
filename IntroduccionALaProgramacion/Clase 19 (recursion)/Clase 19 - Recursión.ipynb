{
 "cells": [
  {
   "cell_type": "markdown",
   "metadata": {},
   "source": [
    "# Recursión\n",
    "![recursion](recursion.jpg 'recursion')\n",
    "\n",
    "En programación existen 2 formas de enfrentar un problema:\n",
    "- En forma iterativa\n",
    "- En forma recursiva\n",
    "\n",
    "Ambos estilos son buenos. Sin embargo, hay muchos problemas para los que la solución recursiva es tan simple (y elegante) que la solución iterativa (de existir) no tiene sentido.\n",
    "\n",
    "¿Qué pasa si una función se llama a sí misma?"
   ]
  },
  {
   "cell_type": "code",
   "execution_count": null,
   "metadata": {},
   "outputs": [],
   "source": [
    "def funcion():\n",
    "    funcion()\n",
    "\n",
    "funcion()"
   ]
  },
  {
   "cell_type": "markdown",
   "metadata": {},
   "source": [
    "En el caso anterior entramos en una especie de loop infinito.\n",
    "\n",
    "¿Cuál es la salida del siguiente programa?"
   ]
  },
  {
   "cell_type": "code",
   "execution_count": null,
   "metadata": {
    "collapsed": true
   },
   "outputs": [],
   "source": [
    "def funcion(contador):\n",
    "    print(contador)\n",
    "    funcion(contador - 1)\n",
    "    \n",
    "funcion(10)"
   ]
  },
  {
   "cell_type": "markdown",
   "metadata": {
    "collapsed": true
   },
   "source": [
    "En ambos casos, el programa termina con un error. Necesitamos una condición que nos permita salir del loop infinito.\n",
    "\n",
    "Para el caso anterior una alternativa podría ser\n",
    "\n",
    "```python\n",
    "if contador == 0:\n",
    "    return\n",
    "```"
   ]
  },
  {
   "cell_type": "code",
   "execution_count": null,
   "metadata": {},
   "outputs": [],
   "source": [
    "def funcion(contador):\n",
    "    if contador == 0:\n",
    "        return\n",
    "    print(contador)\n",
    "    funcion(contador-1)\n",
    "    \n",
    "funcion(10)"
   ]
  },
  {
   "cell_type": "markdown",
   "metadata": {},
   "source": [
    "¿Como cambia el programa anterior en este caso?"
   ]
  },
  {
   "cell_type": "code",
   "execution_count": null,
   "metadata": {},
   "outputs": [],
   "source": [
    "def funcion(contador):\n",
    "    if contador == 0:\n",
    "        return\n",
    "    funcion(contador-1)\n",
    "    print(contador)\n",
    "    \n",
    "funcion(10)"
   ]
  },
  {
   "cell_type": "markdown",
   "metadata": {},
   "source": [
    "¿Y si ponemos la condición de fin después del llamado recursivo?"
   ]
  },
  {
   "cell_type": "code",
   "execution_count": null,
   "metadata": {},
   "outputs": [],
   "source": [
    "def funcion(contador):\n",
    "    funcion(contador-1)\n",
    "    print(contador)\n",
    "    if contador == 0:\n",
    "        return\n",
    "    \n",
    "funcion(10)"
   ]
  },
  {
   "cell_type": "markdown",
   "metadata": {},
   "source": [
    "Implementar una función que calcule $n!$\n",
    "\n",
    "$$n! = n * (n - 1)!$$"
   ]
  },
  {
   "cell_type": "code",
   "execution_count": null,
   "metadata": {
    "collapsed": true
   },
   "outputs": [],
   "source": [
    "def factorial(n):\n",
    "    return n * factorial(n - 1)\n",
    "\n",
    "print(factorial(5))"
   ]
  },
  {
   "cell_type": "markdown",
   "metadata": {},
   "source": [
    "El código anterior no funciona, porque falta considerar los casos bases de la defición de factorial, que rompen el ciclo infinito.\n",
    "\n",
    "$$n! = n * (n -1)$$\n",
    "$$1!=1$$\n",
    "$$0!=1$$"
   ]
  },
  {
   "cell_type": "code",
   "execution_count": null,
   "metadata": {},
   "outputs": [],
   "source": [
    "def factorial(n):\n",
    "    if n <= 1:\n",
    "        return 1\n",
    "    return n * factorial(n - 1)\n",
    "\n",
    "print(factorial(5))"
   ]
  },
  {
   "cell_type": "markdown",
   "metadata": {},
   "source": [
    "![factorial](factorial1.png 'factorial')\n",
    "![factorial](factorial2.png 'factorial')\n",
    "\n",
    "¿Qué pasa si el caso base está bajo la llamada recursiva?"
   ]
  },
  {
   "cell_type": "code",
   "execution_count": null,
   "metadata": {
    "collapsed": true
   },
   "outputs": [],
   "source": [
    "def factorial(n):\n",
    "    return n * factorial(n - 1)\n",
    "    if n <= 1:\n",
    "        return 1\n",
    "    \n",
    "print(factorial(5))"
   ]
  },
  {
   "cell_type": "markdown",
   "metadata": {},
   "source": [
    "## Actividad\n",
    "Crear una función recursiva que retorne el n-ésimo fibonacci (1, 1, 2, 3, 5, 8 , 13, 21, ...)\n",
    "- fib(n) = fib(n - 2) + fib(n - 1)\n",
    "- fib(1) = 1\n",
    "- fib(2) = 1"
   ]
  },
  {
   "cell_type": "code",
   "execution_count": null,
   "metadata": {
    "collapsed": true
   },
   "outputs": [],
   "source": []
  },
  {
   "cell_type": "markdown",
   "metadata": {},
   "source": [
    "### Definición\n",
    "Recursión es una estrategia para solucionar problemas llamando a una función dentro de sí misma\n",
    "\n",
    "### ¿Cuándo usar recursión?\n",
    "Cuando un problema se puede dividir en subproblemas idénticos, pero más pequeños\n",
    "\n",
    "![cubos](cubos.png 'cubos')\n",
    "\n",
    "#### Dividir para conquistar\n",
    "1. Dividimos el problema en subproblemas iguales\n",
    "2. Solucionamos cada subproblema\n",
    "3. Usamos subsoluciones para formar solución final\n",
    "\n",
    "#### Estructura de una solución recursiva\n",
    "- Casos bases\n",
    "- Llamados recursivos\n",
    "- Formar solución a partir de subsoluciones\n",
    "\n",
    "```python\n",
    "def factorial(n):\n",
    "    if n <= 1:\n",
    "        return 1\n",
    "     return n * factorial(n - 1)\n",
    "```\n",
    "\n",
    "##### Casos base\n",
    "Subproblema menor con solución directa. Se retorna el llamado sin ningún llamado recursivo\n",
    "```python\n",
    "if n <= 1:\n",
    "    return 1\n",
    "```\n",
    "\n",
    "##### Llamado recursivo\n",
    "Si la solución no es directa, se obtiene la solución de subproblemas usando llamadas recursivas\n",
    "\n",
    "##### Solución final\n",
    "A partir de subsoluciones se forma la solución final y se retorna\n",
    "\n",
    "```python\n",
    "return n * factorial(n - 1)\n",
    "```\n",
    "\n",
    "### ¿Cómo idear una solución recursiva?\n",
    "- Enteder el problema\n",
    "- Definir cuál será el input del la función\n",
    "- Encontrar el caso base (un caso tan simple que la solución sea trivial)\n",
    "- Asumir que un llamado recursivo a la función retornará el valor correcto para un input menor que el actual\n",
    "- Pensar cómo usar ese retorno para solucionar el problema para el input actual\n",
    "\n",
    "#### Ejemplo\n",
    "Un algoritmo recursivo que sume los dígitos de un número. \n",
    "\n",
    "Ejemplo: 12345 = 1 + 2 + 3 + 4 + 5 = 15"
   ]
  },
  {
   "cell_type": "code",
   "execution_count": null,
   "metadata": {},
   "outputs": [],
   "source": [
    "def sumar_digitos(n):\n",
    "    if n//10 == 0:\n",
    "        return n\n",
    "    return n % 10 + sumar_digitos(n//10)\n",
    "\n",
    "print(sumar_digitos(12345)) "
   ]
  },
  {
   "cell_type": "markdown",
   "metadata": {},
   "source": [
    "## Actividad\n",
    "Definir una función que verifique si un string es palíndromo de forma recursiva. Un palíndromo es una secuencia que se lee igual de izquierda a derecha que de derecha a izquierda"
   ]
  },
  {
   "cell_type": "code",
   "execution_count": null,
   "metadata": {
    "collapsed": true
   },
   "outputs": [],
   "source": []
  }
 ],
 "metadata": {
  "anaconda-cloud": {},
  "kernelspec": {
   "display_name": "Python 3",
   "language": "python",
   "name": "python3"
  },
  "language_info": {
   "codemirror_mode": {
    "name": "ipython",
    "version": 3
   },
   "file_extension": ".py",
   "mimetype": "text/x-python",
   "name": "python",
   "nbconvert_exporter": "python",
   "pygments_lexer": "ipython3",
   "version": "3.6.2"
  }
 },
 "nbformat": 4,
 "nbformat_minor": 1
}
