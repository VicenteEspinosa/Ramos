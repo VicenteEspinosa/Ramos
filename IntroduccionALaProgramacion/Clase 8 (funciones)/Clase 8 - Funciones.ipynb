{
 "cells": [
  {
   "cell_type": "markdown",
   "metadata": {},
   "source": [
    "# Clase 8\n",
    "\n",
    "## Funciones\n",
    "\n",
    "Las funciones permiten encapsular código que resuelve una tarea específica.\n",
    "\n",
    "En las clases anteriores ya hemos hecho uso de distintas funciones que vienen con python:\n",
    "\n",
    "```python\n",
    "input(mensaje)\n",
    "```\n",
    "Imprime ```mensaje``` en consola y retorna ```str``` entregado por el usuario\n",
    "    \n",
    "    \n",
    "```python\n",
    "print(var1, var2, ..., varn)\n",
    "```\n",
    "Imprime ```var1``` hasta ```varn``` separados por un espacio\n",
    "    \n",
    "Las funciones anteriores, forman parte del grupo que está siempre presente. Se denominan *built-in functions*. Pueden ver en la [documentación oficial](https://docs.python.org/3.5/library/functions.html) una lista con todas ellas.\n",
    "\n",
    "Además de las funciones que están siempre presentes, podemos incorporar nuevas funcionalidades mediante la importación de **módulos**. Los módulos proveen diversas funciones agrupadas. 2 módulos muy comunes son ```random```, que nos permite trabajar con números aleatorios y ```math``` que incluye constantes como ```pi``` y ```e``` y funciones como la exponencial, logaritmo y las trignométricas, entre otras.\n",
    "\n",
    "Existen 2 formas para poder usar las funciones de un módulo\n",
    "### Importar módulo completo\n",
    "\n",
    "#### Sintaxis\n",
    "\n",
    "```python\n",
    "import modulo\n",
    "\n",
    "modulo.funcion_1(parametro_1, parametro_2, ..., parametro_n)\n",
    "\n",
    "modulo.funcion_2(parametro_1, parametro_2, ..., parametro_n)\n",
    "```\n",
    "\n",
    "##### Ejemplo"
   ]
  },
  {
   "cell_type": "code",
   "execution_count": 25,
   "metadata": {},
   "outputs": [
    {
     "data": {
      "text/plain": [
       "5"
      ]
     },
     "execution_count": 25,
     "metadata": {},
     "output_type": "execute_result"
    }
   ],
   "source": [
    "import random\n",
    "\n",
    "random.randint(1, 5)"
   ]
  },
  {
   "cell_type": "markdown",
   "metadata": {},
   "source": [
    "En el ejemplo anterior importamos el módulo ```random``` y luego llamamos a la función ```randint(a,b)``` del módulo mediante ```random.randint(a,b)```, que retorna un entero aleatorio entre ```a``` y ```b``` (ambos incluidos)\n",
    "\n",
    "### Importar función(es) específica(s)\n",
    "\n",
    "#### Sintaxis\n",
    "\n",
    "```python\n",
    "from modulo import funcion_1, funcion_2, ..., funcion_n\n",
    "\n",
    "funcion_1(parametro_1, parametros_2, ..., parametro_n)\n",
    "```\n",
    "\n",
    "##### Ejemplo"
   ]
  },
  {
   "cell_type": "code",
   "execution_count": null,
   "metadata": {
    "collapsed": true
   },
   "outputs": [],
   "source": [
    "from random import randint\n",
    "\n",
    "randint(1, 5)"
   ]
  },
  {
   "cell_type": "markdown",
   "metadata": {},
   "source": [
    "Notar que en este caso solo hay que escribir ```randint(a,b)``` y no ```random.randint(a,b)```"
   ]
  },
  {
   "cell_type": "markdown",
   "metadata": {},
   "source": [
    "### *Aliasing*\n",
    "\n",
    "Es posible darle el nombre que nosotros queramos al módulo o sus funciones. Esto se denomina *aliasing*\n",
    "\n",
    "#### Sintaxis\n",
    "\n",
    "```python\n",
    "import modulo as alias\n",
    "\n",
    "alias.funcion_1(parametro_1, parametro_2, ..., parametro_n)\n",
    "```\n",
    "\n",
    "```python \n",
    "from modulo import funcion_1 as alias\n",
    "\n",
    "alias(parametro_1, parametro_2, ..., parametro_n)\n",
    "```\n"
   ]
  },
  {
   "cell_type": "code",
   "execution_count": null,
   "metadata": {
    "collapsed": true
   },
   "outputs": [],
   "source": [
    "import random as aleatorio\n",
    "\n",
    "aleatorio.randint(1,5)"
   ]
  },
  {
   "cell_type": "code",
   "execution_count": null,
   "metadata": {
    "collapsed": true
   },
   "outputs": [],
   "source": [
    "from random import randint as entero_aleatorio\n",
    "\n",
    "entero_aleatorio(1,5)"
   ]
  },
  {
   "cell_type": "markdown",
   "metadata": {},
   "source": [
    "### Más ejemplos: módulo math"
   ]
  },
  {
   "cell_type": "code",
   "execution_count": 28,
   "metadata": {},
   "outputs": [
    {
     "name": "stdout",
     "output_type": "stream",
     "text": [
      "El valor de pi es: 3.141592653589793\n",
      "Seno de pi: 0\n",
      "Coseno de pi: -1.0\n",
      "Tangente de pi: 0\n",
      "Pi en grados: 180.0\n",
      "180 grados en radianes son: 3.141592653589793\n",
      "e^2 es: 7.38905609893065\n"
     ]
    }
   ],
   "source": [
    "import math\n",
    "print('El valor de pi es:', math.pi)\n",
    "print('Seno de pi:', round(math.sin(math.pi)))\n",
    "print('Coseno de pi:', math.cos(math.pi))\n",
    "print('Tangente de pi:', round(math.tan(math.pi)))\n",
    "print('Pi en grados:', math.degrees(math.pi))\n",
    "print('180 grados en radianes son:', math.radians(180))\n",
    "print('e^2 es:', math.exp(2))"
   ]
  },
  {
   "cell_type": "markdown",
   "metadata": {
    "collapsed": true
   },
   "source": [
    "### Actividades\n",
    "#### Lanzamiento de un dado, resultados\n",
    "\n",
    "Escribir un programa que solicite al usuario un entero n y lance un dado n veces e imprima el valor de cada lanzamiento"
   ]
  },
  {
   "cell_type": "code",
   "execution_count": 45,
   "metadata": {},
   "outputs": [
    {
     "name": "stdout",
     "output_type": "stream",
     "text": [
      "Numero de lanzamientos: 2\n",
      "Tus numero son:\n",
      "2\n",
      "3\n"
     ]
    }
   ],
   "source": [
    "import random\n",
    "n = int(input(\"Numero de lanzamientos: \"))\n",
    "print(\"Tus numero son:\")\n",
    "while n > 0:\n",
    "    n = n - 1\n",
    "    print(str(random.randint(1,6)))"
   ]
  },
  {
   "cell_type": "markdown",
   "metadata": {},
   "source": [
    "#### Lanzamiento de un dado, frecuencia\n",
    "\n",
    "Escribir un programa que solicite al usuario un entero n y lance un dado n veces e imprima cuántas veces salió cada número"
   ]
  },
  {
   "cell_type": "code",
   "execution_count": 71,
   "metadata": {},
   "outputs": [
    {
     "name": "stdout",
     "output_type": "stream",
     "text": [
      "Numero de lanzamientos: 999\n",
      "Obtuviste 161 unos.\n",
      "Obtuviste 175 dos.\n",
      "Obtuviste 163 tres.\n",
      "Obtuviste 169 cuatros.\n",
      "Obtiviste 161 cincos.\n",
      "Obtuviste 170 seis.\n"
     ]
    }
   ],
   "source": [
    "n = int(input(\"Numero de lanzamientos: \"))\n",
    "import random\n",
    "uno = 0\n",
    "dos = 0\n",
    "tres = 0\n",
    "cuatro = 0\n",
    "cinco = 0\n",
    "seis = 0\n",
    "while n > 0:\n",
    "    r = random.randint(1,6)\n",
    "    n -= 1\n",
    "    if r == 1:\n",
    "        uno += 1\n",
    "    if r == 2:\n",
    "        dos += 1\n",
    "    if r == 3:\n",
    "        tres += 1\n",
    "    if r == 4:\n",
    "        cuatro += 1\n",
    "    if r == 5:\n",
    "        cinco += 1\n",
    "    if r == 6:\n",
    "        seis += 1\n",
    "print(\"Obtuviste\",uno,\"unos.\")\n",
    "print(\"Obtuviste\",dos,\"dos.\")\n",
    "print(\"Obtuviste\",tres,\"tres.\")\n",
    "print(\"Obtuviste\",cuatro,\"cuatros.\")\n",
    "print(\"Obtiviste\",cinco,\"cincos.\")\n",
    "print(\"Obtuviste\",seis,\"seis.\")"
   ]
  },
  {
   "cell_type": "markdown",
   "metadata": {},
   "source": [
    "#### Lanzamiento de dos dados\n",
    "\n",
    "Escribir un programa que lance 2 dados hasta que la suma de los resultados sea 10"
   ]
  },
  {
   "cell_type": "code",
   "execution_count": 95,
   "metadata": {},
   "outputs": [
    {
     "name": "stdout",
     "output_type": "stream",
     "text": [
      "Tus numeros suman 10, y son: 5 y 5 , lo lograste en 2 intentos.\n"
     ]
    }
   ],
   "source": [
    "a = 0\n",
    "b = 0\n",
    "n = 0\n",
    "import random\n",
    "while ((a + b) != 10):\n",
    "    a = random.randint(1,6)\n",
    "    b = random.randint(1,6)\n",
    "    n += 1\n",
    "print(\"Tus numeros suman 10, y son:\",a,\"y\",b,\", lo lograste en\",n,\"intentos.\")"
   ]
  },
  {
   "cell_type": "markdown",
   "metadata": {},
   "source": [
    "### Funciones definidas por el programador\n",
    "Aparte de las *built-in functions* y las funciones importadas desde módulos, podemos definir nuestras propias funciones para utilizarlas en nuestros programas.\n",
    "\n",
    "#### Sintaxis definición\n",
    "\n",
    "```python\n",
    "def nombre_funcion(parametro_1, parametro_2, ..., parametro_n):\n",
    "    bloque_de_codigo_de_la_funcion\n",
    "    ...\n",
    "    bloque_de_codigo_de_la_funcion\n",
    "    return valor_de_retorno\n",
    "```\n",
    "\n",
    "#### Sintaxis llamada\n",
    "```python\n",
    "salida = nombre_funcion(entrada_1, entrada_2, ..., entrada_n)\n",
    "```"
   ]
  },
  {
   "cell_type": "markdown",
   "metadata": {},
   "source": [
    "Las funciones pueden recibir 0 o más parámetros y retornar 0 o más valores (lo habitual es retornar 1 valor). Cuando se alcanza el primer ```return```, la función termina\n",
    "\n",
    "#### Ejemplo"
   ]
  },
  {
   "cell_type": "code",
   "execution_count": 101,
   "metadata": {},
   "outputs": [
    {
     "name": "stdout",
     "output_type": "stream",
     "text": [
      "Numero: 54\n",
      "Hola Vicente la suma de los dígitos de 54 es 9\n"
     ]
    }
   ],
   "source": [
    "#Esta función recibe un parámetro, n, y retorna la suma de sus dígitos\n",
    "def sumar_digitos(n):\n",
    "    suma = 0\n",
    "    while n != 0:\n",
    "        suma += n%10\n",
    "        n //= 10\n",
    "    return suma\n",
    "\n",
    "#Esta función recibe un parámetro, n, e imprime un mensaje indicando el valor de la suma de los dígitos de n (no retorna nada)\n",
    "def mostrar_mensaje(n, nombre):\n",
    "    print('Hola', nombre, 'la suma de los dígitos de', n, 'es', sumar_digitos(n))\n",
    "    \n",
    "\n",
    "numero = int(input(\"Numero: \"))\n",
    "mostrar_mensaje(numero, 'Vicente')"
   ]
  },
  {
   "cell_type": "markdown",
   "metadata": {},
   "source": [
    "Definir nuestras propias funciones es muy valioso, ya que nos permite evitar repetir código.\n",
    "Es fácil notar su aporte comparando estas 2 formas de calcular el coeficiente binomial\n",
    "$C(n,k) = \\frac{n!}{k!(n-k)!}$\n",
    "\n",
    "Recordar que $x! = 1 * 2 * ... * (x-1) * x = \\prod_{i=1}^{x}i$"
   ]
  },
  {
   "cell_type": "code",
   "execution_count": null,
   "metadata": {
    "collapsed": true
   },
   "outputs": [],
   "source": [
    "#Forma sin funciones\n",
    "\n",
    "n = int(input('n:'))\n",
    "k = int(input('k:'))\n",
    "\n",
    "#Factorial de n\n",
    "f_n = 1\n",
    "for i in range(1, n + 1):\n",
    "    f_n *= i\n",
    "\n",
    "#Factorial de k\n",
    "f_k = 1\n",
    "for i in range(1, k + 1):\n",
    "    f_k *= i\n",
    "\n",
    "#Factorial de n - k\n",
    "f_n_k = 1\n",
    "for i in range(1, n - k + 1):\n",
    "    f_n_k *= i\n",
    "    \n",
    "c = f_n / (f_k * f_n_k)\n",
    "\n",
    "print('C(', n, ',', k, ') =', c)"
   ]
  },
  {
   "cell_type": "code",
   "execution_count": null,
   "metadata": {
    "collapsed": true
   },
   "outputs": [],
   "source": [
    "#Forma con funciones\n",
    "\n",
    "def factorial(n):\n",
    "    f = 1\n",
    "    for i in range(1, n + 1):\n",
    "        f *= i\n",
    "    \n",
    "    return f\n",
    "\n",
    "def coeficiente_binomial(n, k):\n",
    "    return factorial(n) / (factorial(k) * factorial(n - k))\n",
    "\n",
    "n = int(input('n:'))\n",
    "k = int(input('k:'))\n",
    "\n",
    "print('C(', n, ',', k, ') =', coeficiente_binomial(n, k))"
   ]
  },
  {
   "cell_type": "markdown",
   "metadata": {},
   "source": [
    "### Actividad\n",
    "\n",
    "#### Máximo\n",
    "Escribir una función que recibe 2 números y retorna el máximo entre ellos"
   ]
  },
  {
   "cell_type": "code",
   "execution_count": 3,
   "metadata": {},
   "outputs": [
    {
     "data": {
      "text/plain": [
       "6"
      ]
     },
     "execution_count": 3,
     "metadata": {},
     "output_type": "execute_result"
    }
   ],
   "source": [
    "def maximo(a,b):\n",
    "    if a > b:\n",
    "        c = a\n",
    "    else:\n",
    "        c = b\n",
    "    return c\n",
    "maximo(5,6)"
   ]
  },
  {
   "cell_type": "markdown",
   "metadata": {},
   "source": [
    "#### Primo\n",
    "Escribir una funcion que recibe un número y retorna True si es primo y False en caso contrario"
   ]
  },
  {
   "cell_type": "code",
   "execution_count": 63,
   "metadata": {},
   "outputs": [
    {
     "data": {
      "text/plain": [
       "True"
      ]
     },
     "execution_count": 63,
     "metadata": {},
     "output_type": "execute_result"
    }
   ],
   "source": [
    "def primo(a):\n",
    "    n = 0\n",
    "    for i in range (2,a):\n",
    "        if (a % i == 0):\n",
    "            n = 1\n",
    "    if n == 1:\n",
    "        return False\n",
    "    else:\n",
    "        return True\n",
    "primo(53)"
   ]
  },
  {
   "cell_type": "code",
   "execution_count": null,
   "metadata": {
    "collapsed": true
   },
   "outputs": [],
   "source": []
  }
 ],
 "metadata": {
  "anaconda-cloud": {},
  "kernelspec": {
   "display_name": "Python 3",
   "language": "python",
   "name": "python3"
  },
  "language_info": {
   "codemirror_mode": {
    "name": "ipython",
    "version": 3
   },
   "file_extension": ".py",
   "mimetype": "text/x-python",
   "name": "python",
   "nbconvert_exporter": "python",
   "pygments_lexer": "ipython3",
   "version": "3.6.2"
  }
 },
 "nbformat": 4,
 "nbformat_minor": 1
}
