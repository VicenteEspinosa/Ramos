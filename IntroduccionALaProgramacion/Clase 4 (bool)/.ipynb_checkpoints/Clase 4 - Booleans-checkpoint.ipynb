{
 "cells": [
  {
   "cell_type": "markdown",
   "metadata": {},
   "source": [
    "# Clase 4\n",
    "\n",
    "## Actividad clase 3\n",
    "\n",
    "### Calculando el promedio v2\n",
    "\n",
    "$$ NF = 0.15 * I1 + 0.15 * I2 + 0.3 * EX + 0.1 * T1 + 0.1 * T2 + 0.1 * T3 + 0.1 * NP$$\n",
    "\n",
    "Calcular el promedio pidiéndole al usuario sus notas"
   ]
  },
  {
   "cell_type": "code",
   "execution_count": null,
   "metadata": {},
   "outputs": [],
   "source": [
    "I1 = float(input(\"Nota I1: \"))\n",
    "I2 = float(input(\"Nota I2: \"))\n",
    "EX = float(input(\"Nota EX: \"))\n",
    "T1 = float(input(\"Nota T1: \"))\n",
    "T2 = float(input(\"Nota T2: \"))\n",
    "T3 = float(input(\"Nota T3: \"))\n",
    "NP = float(input(\"Nota participación: \"))\n",
    "NF = 0.15 * (I1 + I2) + 0.3 * EX + 0.1 * (T1 + T2 + T3) + 0.1 * NP\n",
    "\n",
    "print(\"Tu nota final es\", NF)"
   ]
  },
  {
   "cell_type": "markdown",
   "metadata": {},
   "source": [
    "Si se fijan en el ejemplo anterior le entregamos 2 parámetros a la función `print`. Es posible entregar un número arbitrario de parámetros y cada uno aparecerá separado del resto por un espacio.\n",
    "\n",
    "Por ejemplo:"
   ]
  },
  {
   "cell_type": "code",
   "execution_count": null,
   "metadata": {},
   "outputs": [],
   "source": [
    "a = 20\n",
    "\n",
    "print(\"Este es el primer parámetro,\", a, \",este es el tercero\", \"y este el cuarto\", 5, 6.0)"
   ]
  },
  {
   "cell_type": "markdown",
   "metadata": {},
   "source": [
    "## Actividad express\n",
    "\n",
    "Evaluar el polinomio $x^4 + \\frac{1}{2} x^3 + 2x^2 - x$ para un x entregado por el usuario"
   ]
  },
  {
   "cell_type": "code",
   "execution_count": null,
   "metadata": {},
   "outputs": [],
   "source": [
    "#Código polinomio"
   ]
  },
  {
   "cell_type": "markdown",
   "metadata": {},
   "source": [
    "Obtener la unidad de una variable x entregada por el ususario (si x = 1234, obtener 4)"
   ]
  },
  {
   "cell_type": "code",
   "execution_count": null,
   "metadata": {},
   "outputs": [],
   "source": [
    "#Código unidad"
   ]
  },
  {
   "cell_type": "markdown",
   "metadata": {},
   "source": [
    "Obtener la centena de una variable x entregada por el usuario (si x = 1234, obtener 2)"
   ]
  },
  {
   "cell_type": "code",
   "execution_count": null,
   "metadata": {},
   "outputs": [],
   "source": [
    "#Código centena"
   ]
  },
  {
   "cell_type": "markdown",
   "metadata": {},
   "source": [
    "Si me demoro *m* minutos en recorrer un kilómetro, ¿a qué velocidad me estoy moviendo en km/h?"
   ]
  },
  {
   "cell_type": "code",
   "execution_count": null,
   "metadata": {},
   "outputs": [],
   "source": [
    "#Código conversor"
   ]
  },
  {
   "cell_type": "markdown",
   "metadata": {},
   "source": [
    "## Control de Flujo Condicional\n",
    "\n",
    "### Instrucciones condicionales\n",
    "Las instrucciones condicionales permiten ejecutar una o más instrucciones solamente si es cumple una condición\n",
    "\n",
    "### Condición\n",
    "Valor del tipo **bool**\n",
    "Dos valores posibles: `True` o `False`\n",
    "\n",
    "### Operadores de comparación\n",
    "\n",
    "Operador | Descripción\n",
    "--- | ---\n",
    "a == b | Retorna True ssi a es igual a b\n",
    "a != b | Retorna True ssi a es distinto de b\n",
    "a < b | Retorna True ssi a es menor que b\n",
    "a <= b | Retorna True ssi a es menor o igual a b\n",
    "a > b | Retorna True ssi a es mayor que b\n",
    "a >= b | Retorna True ssi a es mayor o igual a b\n",
    "\n",
    "#### Ejemplo con números"
   ]
  },
  {
   "cell_type": "code",
   "execution_count": null,
   "metadata": {},
   "outputs": [],
   "source": [
    "5 == 5"
   ]
  },
  {
   "cell_type": "code",
   "execution_count": null,
   "metadata": {},
   "outputs": [],
   "source": [
    "5 == 4"
   ]
  },
  {
   "cell_type": "code",
   "execution_count": null,
   "metadata": {},
   "outputs": [],
   "source": [
    "5 != 5"
   ]
  },
  {
   "cell_type": "code",
   "execution_count": null,
   "metadata": {},
   "outputs": [],
   "source": [
    "5 != 4"
   ]
  },
  {
   "cell_type": "code",
   "execution_count": null,
   "metadata": {},
   "outputs": [],
   "source": [
    "5 < 5"
   ]
  },
  {
   "cell_type": "code",
   "execution_count": null,
   "metadata": {},
   "outputs": [],
   "source": [
    "5 <= 5"
   ]
  },
  {
   "cell_type": "code",
   "execution_count": null,
   "metadata": {},
   "outputs": [],
   "source": [
    "5 > 5"
   ]
  },
  {
   "cell_type": "code",
   "execution_count": null,
   "metadata": {},
   "outputs": [],
   "source": [
    "5 > 4"
   ]
  },
  {
   "cell_type": "markdown",
   "metadata": {},
   "source": [
    "### Ejemplo con texto"
   ]
  },
  {
   "cell_type": "code",
   "execution_count": null,
   "metadata": {
    "collapsed": true
   },
   "outputs": [],
   "source": [
    "a = 'hola'"
   ]
  },
  {
   "cell_type": "code",
   "execution_count": null,
   "metadata": {},
   "outputs": [],
   "source": [
    "a == 'hola'"
   ]
  },
  {
   "cell_type": "code",
   "execution_count": null,
   "metadata": {},
   "outputs": [],
   "source": [
    "a == 'oli'"
   ]
  },
  {
   "cell_type": "code",
   "execution_count": null,
   "metadata": {},
   "outputs": [],
   "source": [
    "a != 'oli'"
   ]
  },
  {
   "cell_type": "code",
   "execution_count": null,
   "metadata": {},
   "outputs": [],
   "source": [
    "a < \"oli\""
   ]
  },
  {
   "cell_type": "code",
   "execution_count": null,
   "metadata": {},
   "outputs": [],
   "source": [
    "a > 'oli'"
   ]
  },
  {
   "cell_type": "code",
   "execution_count": null,
   "metadata": {},
   "outputs": [],
   "source": [
    "a > 'a'"
   ]
  },
  {
   "cell_type": "code",
   "execution_count": null,
   "metadata": {},
   "outputs": [],
   "source": [
    "'A' < 'a'"
   ]
  },
  {
   "cell_type": "code",
   "execution_count": null,
   "metadata": {},
   "outputs": [],
   "source": [
    "'9' < 'A'"
   ]
  },
  {
   "cell_type": "code",
   "execution_count": null,
   "metadata": {},
   "outputs": [],
   "source": [
    "'ñ' < 'o'"
   ]
  },
  {
   "cell_type": "code",
   "execution_count": null,
   "metadata": {},
   "outputs": [],
   "source": [
    "'á' > 'b'"
   ]
  },
  {
   "cell_type": "markdown",
   "metadata": {},
   "source": [
    "Es importante tener en cuenta las siguientes cosas:\n",
    "  * Las comparaciones entre strings son según orden lexicográfico\n",
    "  * Las mayúsculas son menores que las minúsculas\n",
    "  * Si hay ñ o tildes no funciona"
   ]
  },
  {
   "cell_type": "markdown",
   "metadata": {},
   "source": [
    "### Operadores lógicos\n",
    "\n",
    "Operador | Descripción\n",
    "--- | ---\n",
    "` not a` | Retorna True ssi a es False\n",
    "`a or b` | Retorna True ssi a o b son True\n",
    "`a and b` | Retorna True ssi a y b son True\n"
   ]
  },
  {
   "cell_type": "markdown",
   "metadata": {},
   "source": [
    "### not"
   ]
  },
  {
   "cell_type": "code",
   "execution_count": null,
   "metadata": {},
   "outputs": [],
   "source": [
    "not False"
   ]
  },
  {
   "cell_type": "code",
   "execution_count": null,
   "metadata": {},
   "outputs": [],
   "source": [
    "not True"
   ]
  },
  {
   "cell_type": "markdown",
   "metadata": {},
   "source": [
    "### or"
   ]
  },
  {
   "cell_type": "code",
   "execution_count": null,
   "metadata": {},
   "outputs": [],
   "source": [
    "False or False"
   ]
  },
  {
   "cell_type": "code",
   "execution_count": null,
   "metadata": {},
   "outputs": [],
   "source": [
    "False or True"
   ]
  },
  {
   "cell_type": "code",
   "execution_count": null,
   "metadata": {},
   "outputs": [],
   "source": [
    "True or False"
   ]
  },
  {
   "cell_type": "code",
   "execution_count": null,
   "metadata": {},
   "outputs": [],
   "source": [
    "True or True"
   ]
  },
  {
   "cell_type": "markdown",
   "metadata": {},
   "source": [
    "### and"
   ]
  },
  {
   "cell_type": "code",
   "execution_count": null,
   "metadata": {},
   "outputs": [],
   "source": [
    "False and False"
   ]
  },
  {
   "cell_type": "code",
   "execution_count": null,
   "metadata": {},
   "outputs": [],
   "source": [
    "False and True"
   ]
  },
  {
   "cell_type": "code",
   "execution_count": null,
   "metadata": {},
   "outputs": [],
   "source": [
    "True and False"
   ]
  },
  {
   "cell_type": "code",
   "execution_count": null,
   "metadata": {},
   "outputs": [],
   "source": [
    "True and True"
   ]
  },
  {
   "cell_type": "markdown",
   "metadata": {},
   "source": [
    "## if, elif y else"
   ]
  },
  {
   "cell_type": "code",
   "execution_count": null,
   "metadata": {},
   "outputs": [],
   "source": [
    "numero = int(input(\"Ingresa un número del 0 al 9: \"))\n",
    "valido = (0 <= numero) and (numero < 9)\n",
    "print(valido)"
   ]
  },
  {
   "cell_type": "markdown",
   "metadata": {},
   "source": [
    "**if**: Permite ejecutar un trozo de código siempre y cuando se cumpla una condición\n",
    "\n",
    "**Sintaxis**:\n",
    "\n",
    "```python\n",
    "if condicion:\n",
    "    bloque_de_codigo_if\n",
    "\n",
    "bloque_de_codigo_fuera_del_if\n",
    "\n",
    "```"
   ]
  },
  {
   "cell_type": "code",
   "execution_count": null,
   "metadata": {},
   "outputs": [],
   "source": [
    "numero = int(input(\"Ingresa un número del 0 al 9: \"))\n",
    "valido = (0 <= numero) and (numero <= 9)\n",
    "if not valido:\n",
    "    print(\"Error, ingresaste un número incorrecto\")\n",
    "print(\"¡Gracias!\")"
   ]
  },
  {
   "cell_type": "markdown",
   "metadata": {},
   "source": [
    "**Obs:** no hace falta guardar la condición en una variable"
   ]
  },
  {
   "cell_type": "code",
   "execution_count": null,
   "metadata": {},
   "outputs": [],
   "source": [
    "numero = int(input(\"Ingresa un número del 0 al 9: \"))\n",
    "if not ((0 <= numero) and (numero <= 9)):\n",
    "    print(\"Error, ingresaste un número incorrecto\")\n",
    "print(\"¡Gracias!\")"
   ]
  },
  {
   "cell_type": "markdown",
   "metadata": {},
   "source": [
    "Pensándolo más detenidamente, no nos gustaría darle las gracias a alguien que ingresó mal el número. Afortunadamente existe una instrucción que nos permite lograr esto.\n",
    "\n",
    "**else**: Ejecuta un trozo de código si no se cumple la condición de un **if** anterior\n",
    "\n",
    "\n",
    "**Sintaxis**\n",
    "\n",
    "```python\n",
    "\n",
    "if condicion:\n",
    "    bloque_de_codigo_if\n",
    "else:\n",
    "    bloque_de_codigo_else\n",
    "bloque_de_codigo_fuera_del_if_else\n",
    "```"
   ]
  },
  {
   "cell_type": "code",
   "execution_count": null,
   "metadata": {},
   "outputs": [],
   "source": [
    "numero = int(input(\"Ingresa un número del 0 al 9: \"))\n",
    "if ((numero >= 0) and (numero <= 9)):\n",
    "    print(\"¡Gracias!\")\n",
    "else:\n",
    "    print(\"Error, ingresaste un número incorrecto\")"
   ]
  },
  {
   "cell_type": "markdown",
   "metadata": {},
   "source": [
    "## Actividad\n",
    "### Calculando el promedio v3\n",
    "\n",
    "Ahora que tenemos las herramientas para tomar decisiones, calcula el promedio final del curso, pero si el promedio de las evaluaciones escritas o el promedio de las tareas es inferior a 4 imprime un mensaje que indique que de todas maneras reprobó el ramo\n",
    "\n",
    "$$ NF = 0.15 * I1 + 0.15 * I2 + 0.3 * EX + 0.1 * T1 + 0.1 * T2 + 0.1 * T3 + 0.1 * NP$$\n",
    "\n"
   ]
  },
  {
   "cell_type": "code",
   "execution_count": null,
   "metadata": {
    "collapsed": true
   },
   "outputs": [],
   "source": [
    "#Código promedio"
   ]
  }
 ],
 "metadata": {
  "anaconda-cloud": {},
  "kernelspec": {
   "display_name": "Python 3",
   "language": "python",
   "name": "python3"
  },
  "language_info": {
   "codemirror_mode": {
    "name": "ipython",
    "version": 3
   },
   "file_extension": ".py",
   "mimetype": "text/x-python",
   "name": "python",
   "nbconvert_exporter": "python",
   "pygments_lexer": "ipython3",
   "version": "3.6.2"
  }
 },
 "nbformat": 4,
 "nbformat_minor": 1
}
