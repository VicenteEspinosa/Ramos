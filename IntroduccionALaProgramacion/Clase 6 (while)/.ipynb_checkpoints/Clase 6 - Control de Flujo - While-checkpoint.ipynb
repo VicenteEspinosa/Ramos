{
 "cells": [
  {
   "cell_type": "markdown",
   "metadata": {},
   "source": [
    "# Clase 6\n",
    "\n",
    "\n",
    "## Control de flujo: ciclos\n",
    "\n",
    "### while\n",
    "\n",
    "Permite ejecutar varias veces la misma sección de código mientras se cumpla una condición\n",
    "\n",
    "#### Sintaxis\n",
    "\n",
    "```python\n",
    "while condicion:\n",
    "    bloque_de_codigo_while\n",
    "    ...\n",
    "    ...\n",
    "    ...\n",
    "    bloque_de_codigo_while\n",
    "    \n",
    "codigo_fuera_del_while\n",
    "codigo_fuera_del_while\n",
    "\n",
    "```\n",
    "\n",
    "Si se cumple la condición, se ejecutan todas las líneas del while. Después de ejecutar la última línea se revisa si la condición se sigue cumpliendo. En caso afirmativo, se vuelven a ejecutar todas las líneas del while y se vuelve a verificar. En caso contrario se termina el ciclo y se ejecuta el código que está después del while."
   ]
  },
  {
   "cell_type": "code",
   "execution_count": 1,
   "metadata": {},
   "outputs": [
    {
     "name": "stdout",
     "output_type": "stream",
     "text": [
      "0\n",
      "1\n",
      "2\n",
      "3\n",
      "4\n",
      "5\n",
      "6\n",
      "7\n",
      "8\n",
      "9\n"
     ]
    }
   ],
   "source": [
    "i = 0\n",
    "while i < 10:\n",
    "    print(i)\n",
    "    i = i + 1"
   ]
  },
  {
   "cell_type": "markdown",
   "metadata": {},
   "source": [
    "Hay que tener cuidado con hacer ciclos cuyas condiciones son siempre verdaderas, ya que harán que el programa se quede pegado. Por ejemplo:\n",
    "\n",
    "```python\n",
    "#Ciclo infinito 1\n",
    "while True:\n",
    "    print('Nunca saldremos de este while D:')\n",
    "\n",
    "#Ciclo infinito 2\n",
    "while 1 < 10:\n",
    "    print('Quizás si el 1 se vuelve más grande que el 10 lograremos salir de aquí algún día')\n",
    "\n",
    "#Ciclo infinito 3\n",
    "a = int(input('Ingresa un entero entre 0 y 9: '))\n",
    "valido = a >= 0 and a <=9\n",
    "\n",
    "while valido:\n",
    "    print('Gracias por ingresar', a)\n",
    "\n",
    "print('No hay más números')\n",
    "```"
   ]
  },
  {
   "cell_type": "markdown",
   "metadata": {
    "collapsed": true
   },
   "source": [
    "#### Versión del ejemplo 3 que sí termina\n",
    "Lo importante es actualizar la condición del ```while``` para que en algún momento se haga falsa y termine el ciclo"
   ]
  },
  {
   "cell_type": "code",
   "execution_count": 4,
   "metadata": {},
   "outputs": [
    {
     "name": "stdout",
     "output_type": "stream",
     "text": [
      "Ingresa un entero entre 0 y 9: 10\n",
      "No hay más números\n"
     ]
    }
   ],
   "source": [
    "# a = int(input('Ingresa un entero entre 0 y 9: '))\n",
    "# valido = a >= 0 and a <= 9\n",
    "\n",
    "valido = True\n",
    "while valido:\n",
    "    a = int(input('Ingresa un entero entre 0 y 9: '))\n",
    "    valido = a >= 0 and a <= 9\n",
    "    if valido == True:\n",
    "        print('Gracias por ingresar', a)\n",
    "\n",
    "print('No hay más números')"
   ]
  },
  {
   "cell_type": "markdown",
   "metadata": {},
   "source": [
    "## Actividades"
   ]
  },
  {
   "cell_type": "markdown",
   "metadata": {},
   "source": [
    "### Contando de 1 a n\n",
    "Escribir un programa que solicite un número n al usuario e imprima todos los números desde 1 hasta n"
   ]
  },
  {
   "cell_type": "code",
   "execution_count": 12,
   "metadata": {},
   "outputs": [
    {
     "name": "stdout",
     "output_type": "stream",
     "text": [
      "numero n -1\n"
     ]
    }
   ],
   "source": [
    "n = int(input(\"numero n \"))\n",
    "p = n-1\n",
    "while p >= 0:\n",
    "    print(n-p)\n",
    "    p = p-1"
   ]
  },
  {
   "cell_type": "markdown",
   "metadata": {},
   "source": [
    "### Pares de 1 a n\n",
    "Escribir un programa que solicite un número n al usuario e imprima todos los números pares entre 1 y n"
   ]
  },
  {
   "cell_type": "code",
   "execution_count": 15,
   "metadata": {},
   "outputs": [
    {
     "name": "stdout",
     "output_type": "stream",
     "text": [
      "numero n 5\n",
      "2\n",
      "4\n"
     ]
    }
   ],
   "source": [
    "n = int(input(\"numero n \"))\n",
    "p = n-1\n",
    "while p >= 0:\n",
    "    numero = n-p\n",
    "    if numero%2==0:\n",
    "        print(numero)\n",
    "    p = p-1"
   ]
  },
  {
   "cell_type": "markdown",
   "metadata": {},
   "source": [
    "### Marcador de fútbol\n",
    "\n",
    "Un programa que lleva la cuenta del marcador de un partido de fútbol. \n",
    "1. Mientras no se haya acabado el partido\n",
    "    1. El usuario ingresa quién anotó:\n",
    "        * 1: local\n",
    "        * 2: visita\n",
    "        * cualquier otro caso: fin del partido\n",
    "    2. Se muestra el marcador\n",
    "2. Se indica el ganador, o empate según corresponda"
   ]
  },
  {
   "cell_type": "code",
   "execution_count": 8,
   "metadata": {},
   "outputs": [
    {
     "name": "stdout",
     "output_type": "stream",
     "text": [
      "¿Quién anotó? 1\n",
      "1 - 0\n",
      "¿Quién anotó? 2\n",
      "1 - 1\n",
      "¿Quién anotó? 2\n",
      "1 - 2\n",
      "¿Quién anotó? fin\n",
      "Gana visita\n"
     ]
    }
   ],
   "source": [
    "a= (str(input(\"¿Quién anotó? \")))\n",
    "b = 0\n",
    "c = 0\n",
    "while not (a==\"fin\"):\n",
    "    a = int(a)\n",
    "    if a == 1:\n",
    "        b = b+1\n",
    "    if a == 2:\n",
    "        c = c+1\n",
    "    print(b,\"-\",c)\n",
    "    a= str(input(\"¿Quién anotó? \"))\n",
    "d = b - c\n",
    "if d == 0:\n",
    "    print(\"Emapte\")\n",
    "if d <0:\n",
    "    print(\"Gana visita\")\n",
    "if d>0:\n",
    "    print(\"Gana local\")"
   ]
  },
  {
   "cell_type": "markdown",
   "metadata": {},
   "source": [
    "### Primo\n",
    "Escribir un programa que solicite un número n al usuario e indique si es primo o no. El programa debe terminar si el usuario ingresa el número 1."
   ]
  },
  {
   "cell_type": "code",
   "execution_count": 1,
   "metadata": {},
   "outputs": [
    {
     "name": "stdout",
     "output_type": "stream",
     "text": [
      "numero n: 2\n",
      "Es numero primo\n",
      "numero n: 8\n",
      "No es un numero primo\n",
      "numero n: 3\n",
      "Es numero primo\n",
      "numero n: 6\n",
      "No es un numero primo\n",
      "numero n: 1\n",
      "fin\n"
     ]
    }
   ],
   "source": [
    "n = float(input(\"numero n: \"))\n",
    "p = float(n) - 1\n",
    "while p > (-2):\n",
    "    if n == 1:\n",
    "        print(\"fin\")\n",
    "        p = (-3)\n",
    "    while p > 1:\n",
    "        if (n % p == 0):\n",
    "            print(\"No es un numero primo\")\n",
    "            p = -1\n",
    "        p = p-1 \n",
    "    if p == 1:\n",
    "        print(\"Es numero primo\")\n",
    "    if p != (-3):\n",
    "        n = float(input(\"numero n: \"))\n",
    "        p = float(n) - 1"
   ]
  },
  {
   "cell_type": "code",
   "execution_count": null,
   "metadata": {
    "collapsed": true
   },
   "outputs": [],
   "source": []
  },
  {
   "cell_type": "code",
   "execution_count": null,
   "metadata": {
    "collapsed": true
   },
   "outputs": [],
   "source": []
  }
 ],
 "metadata": {
  "anaconda-cloud": {},
  "kernelspec": {
   "display_name": "Python 3",
   "language": "python",
   "name": "python3"
  },
  "language_info": {
   "codemirror_mode": {
    "name": "ipython",
    "version": 3
   },
   "file_extension": ".py",
   "mimetype": "text/x-python",
   "name": "python",
   "nbconvert_exporter": "python",
   "pygments_lexer": "ipython3",
   "version": "3.6.2"
  }
 },
 "nbformat": 4,
 "nbformat_minor": 1
}
