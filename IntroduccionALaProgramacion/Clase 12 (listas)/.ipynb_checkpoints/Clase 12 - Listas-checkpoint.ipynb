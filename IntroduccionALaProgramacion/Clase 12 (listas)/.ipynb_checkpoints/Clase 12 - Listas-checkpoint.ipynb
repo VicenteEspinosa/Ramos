{
 "cells": [
  {
   "cell_type": "markdown",
   "metadata": {},
   "source": [
    "# Clase 12\n",
    "\n",
    "## Listas\n",
    "\n",
    "Las listas son ***secuencias mutables*** de elementos.\n",
    "El propósito de las listas es manejar colecciones homogéneas de datos (homogénea va a depender de la aplicación).\n",
    "\n",
    "\n",
    "\n",
    "#### Sintaxis\n",
    "\n",
    "```python\n",
    "lista = [ elemento0, elemento1, elemento2, ... ]\n",
    "```\n",
    "\n",
    "#### Ejemplos\n",
    "\n",
    "##### Lista vacía"
   ]
  },
  {
   "cell_type": "code",
   "execution_count": 4,
   "metadata": {},
   "outputs": [
    {
     "name": "stdout",
     "output_type": "stream",
     "text": [
      "[]\n"
     ]
    }
   ],
   "source": [
    "lista = []\n",
    "print(lista)"
   ]
  },
  {
   "cell_type": "markdown",
   "metadata": {},
   "source": [
    "##### Lista de enteros"
   ]
  },
  {
   "cell_type": "code",
   "execution_count": 5,
   "metadata": {},
   "outputs": [
    {
     "name": "stdout",
     "output_type": "stream",
     "text": [
      "[3, 4, 2, 9, 6]\n"
     ]
    }
   ],
   "source": [
    "lista = [3, 4, 2, 9, 6]\n",
    "print(lista)"
   ]
  },
  {
   "cell_type": "markdown",
   "metadata": {},
   "source": [
    "##### Lista de strings"
   ]
  },
  {
   "cell_type": "code",
   "execution_count": 6,
   "metadata": {},
   "outputs": [
    {
     "name": "stdout",
     "output_type": "stream",
     "text": [
      "['a', 'b', 'c', 'd']\n"
     ]
    }
   ],
   "source": [
    "lista = ['a', 'b', 'c', 'd']\n",
    "print(lista)"
   ]
  },
  {
   "cell_type": "markdown",
   "metadata": {},
   "source": [
    "#### Lista mixta (no recomendable, pero posible)"
   ]
  },
  {
   "cell_type": "code",
   "execution_count": 7,
   "metadata": {},
   "outputs": [
    {
     "name": "stdout",
     "output_type": "stream",
     "text": [
      "['a', 3.4, True]\n"
     ]
    }
   ],
   "source": [
    "lista = ['a', 3.4, True]\n",
    "print(lista)"
   ]
  },
  {
   "cell_type": "markdown",
   "metadata": {},
   "source": [
    "#### Lista de listas"
   ]
  },
  {
   "cell_type": "code",
   "execution_count": 8,
   "metadata": {},
   "outputs": [
    {
     "name": "stdout",
     "output_type": "stream",
     "text": [
      "[[1, 2, 3], [4, 5, 6], [7, 8, 9]]\n"
     ]
    }
   ],
   "source": [
    "lista = [[1, 2, 3], [4, 5, 6], [7, 8, 9]]\n",
    "print(lista)"
   ]
  },
  {
   "cell_type": "markdown",
   "metadata": {},
   "source": [
    "### Índice\n",
    "\n",
    "Al igual que los strings, son ***secuencias*** y por lo tanto son indexables"
   ]
  },
  {
   "cell_type": "code",
   "execution_count": 18,
   "metadata": {},
   "outputs": [
    {
     "name": "stdout",
     "output_type": "stream",
     "text": [
      "6\n",
      "4\n"
     ]
    }
   ],
   "source": [
    "lista = [3, 4, 3, 9, 6]\n",
    "print(lista[4])\n",
    "print(lista[-4])"
   ]
  },
  {
   "cell_type": "markdown",
   "metadata": {},
   "source": [
    "### Slice\n",
    "También se puede obtener un *slice*\n",
    "\n",
    "#### Sintaxis\n",
    "\n",
    "```python\n",
    "lista = [elemento0, elemento1, ... ]\n",
    "lista[i:j] # trozo de lista desde i a j (j no incluido)\n",
    "lista[i:j:k] # trozo de lista desde i a j con paso k\n",
    "```"
   ]
  },
  {
   "cell_type": "code",
   "execution_count": 19,
   "metadata": {},
   "outputs": [
    {
     "name": "stdout",
     "output_type": "stream",
     "text": [
      "[4, 2, 7]\n",
      "[7, 9, 6]\n",
      "[3, 4]\n",
      "[4, 7]\n",
      "[4, 7, 6]\n",
      "[3, 7]\n",
      "[3, 2, 9]\n",
      "[6, 9, 7, 2, 4, 3]\n"
     ]
    }
   ],
   "source": [
    "l = [3, 4, 2, 7, 9, 6]\n",
    "print(l[1:4])\n",
    "print(l[3:])\n",
    "print(l[:2])\n",
    "print(l[1:5:2])\n",
    "print(l[1::2])\n",
    "print(l[:5:3])\n",
    "print(l[::2])\n",
    "print(l[::-1])"
   ]
  },
  {
   "cell_type": "markdown",
   "metadata": {},
   "source": [
    "### Mutable\n",
    "A diferencia de los strings, son ***mutables***, por lo tanto pueden modificarse"
   ]
  },
  {
   "cell_type": "code",
   "execution_count": 20,
   "metadata": {},
   "outputs": [
    {
     "name": "stdout",
     "output_type": "stream",
     "text": [
      "[3, 4, 3, 9, 6]\n",
      "[6, 4, 3, 9, 6]\n"
     ]
    }
   ],
   "source": [
    "lista = [3, 4, 3, 9, 6]\n",
    "print(lista)\n",
    "lista[0] = 6\n",
    "print(lista)"
   ]
  },
  {
   "cell_type": "markdown",
   "metadata": {},
   "source": [
    "### Operadores\n",
    "\n",
    "Algunas operaciones típicas sobre listas son las siguientes\n",
    "\n",
    "Operador | Operación\n",
    "--- | --- | ---\n",
    "```l_1 + l_2``` | Retorna la concatenación de l_1 y l_2\n",
    "```l * n``` | Retorna una lista que es n veces l\n",
    "```i in l``` | Retorna True ssi un elemento de l es igual a i\n",
    "```i not in l``` | Retorna True ssi ningún elemento de l es igual a i"
   ]
  },
  {
   "cell_type": "code",
   "execution_count": 21,
   "metadata": {},
   "outputs": [
    {
     "name": "stdout",
     "output_type": "stream",
     "text": [
      "[1, 2, 3, 4, 5]\n",
      "[4, 5, 4, 5, 4, 5]\n",
      "True\n",
      "True\n"
     ]
    }
   ],
   "source": [
    "l_1 = [1, 2, 3]\n",
    "l_2 = [4, 5]\n",
    "\n",
    "print(l_1 + l_2)\n",
    "print(l_2 * 3)\n",
    "print(2 in l_1)\n",
    "print(2 not in l_2)"
   ]
  },
  {
   "cell_type": "markdown",
   "metadata": {},
   "source": [
    "### Funciones sobre listas\n",
    "\n",
    "Algunas funciones útiles que se pueden aplicar sobre las listas son\n",
    "\n",
    "Función | Resultado\n",
    "--- | --- \n",
    "```len(l)``` | Retorna la cantidad de elementos de l\n",
    "```max(l)``` | Retorna el elemento de máximo valor en l\n",
    "```min(l)``` | Retorna el elemento de mínimo valor en l\n",
    "```sum(l)``` | Retorna la suma de todos los elementos de l"
   ]
  },
  {
   "cell_type": "code",
   "execution_count": 22,
   "metadata": {},
   "outputs": [
    {
     "name": "stdout",
     "output_type": "stream",
     "text": [
      "4\n",
      "16\n",
      "2\n",
      "30\n"
     ]
    }
   ],
   "source": [
    "lista = [4,2,16,8]\n",
    "print(len(lista))\n",
    "print(max(lista))\n",
    "print(min(lista))\n",
    "print(sum(lista))"
   ]
  },
  {
   "cell_type": "markdown",
   "metadata": {},
   "source": [
    "### Iterable\n",
    "Las listas al ser ***secuencias***, son iterables y por lo tanto podemos utiliar el **for** sobre ellas\n",
    "\n",
    "#### Sintaxis\n",
    "\n",
    "```python\n",
    "for variable in lista:\n",
    "    codigo_for\n",
    "    codigo_for\n",
    "    codigo_for\n",
    "```\n",
    "\n",
    "#### Ejemplo"
   ]
  },
  {
   "cell_type": "code",
   "execution_count": 23,
   "metadata": {},
   "outputs": [
    {
     "name": "stdout",
     "output_type": "stream",
     "text": [
      "No olvidar comprar fruta\n",
      "No olvidar comprar carne\n",
      "No olvidar comprar arroz\n"
     ]
    }
   ],
   "source": [
    "lista_de_compras = ['fruta', 'carne', 'arroz']\n",
    "\n",
    "for producto in lista_de_compras:\n",
    "    print('No olvidar comprar', producto)"
   ]
  },
  {
   "cell_type": "markdown",
   "metadata": {},
   "source": [
    "Formas equivalentes de hacer lo mismo son:"
   ]
  },
  {
   "cell_type": "code",
   "execution_count": 61,
   "metadata": {},
   "outputs": [
    {
     "name": "stdout",
     "output_type": "stream",
     "text": [
      "No olvidar comprar fruta\n",
      "No olvidar comprar carne\n",
      "No olvidar comprar arroz\n"
     ]
    }
   ],
   "source": [
    "lista_de_compras = ['fruta', 'carne', 'arroz']\n",
    "\n",
    "for i in range(len(lista_de_compras)):\n",
    "    producto = lista_de_compras[i]\n",
    "    print('No olvidar comprar', producto)"
   ]
  },
  {
   "cell_type": "code",
   "execution_count": 25,
   "metadata": {},
   "outputs": [
    {
     "name": "stdout",
     "output_type": "stream",
     "text": [
      "No olvidar comprar fruta\n",
      "No olvidar comprar carne\n",
      "No olvidar comprar arroz\n"
     ]
    }
   ],
   "source": [
    "lista_de_compras = ['fruta', 'carne', 'arroz']\n",
    "\n",
    "i = 0\n",
    "while i < len(lista_de_compras):\n",
    "    producto = lista_de_compras[i]\n",
    "    print('No olvidar comprar', producto)\n",
    "    i += 1"
   ]
  },
  {
   "cell_type": "markdown",
   "metadata": {},
   "source": [
    "## Actividades\n",
    "\n",
    "### N dado\n",
    "Crear un programa que le pida al usuario dos números: N y M, simule el lanzamiento de un dado de N caras M veces e imprima cuántas veces salió cada cara\n",
    "\n",
    "***Hint***: Para obtener una lista de N 0's se puede escribir [0] * N"
   ]
  },
  {
   "cell_type": "code",
   "execution_count": 58,
   "metadata": {},
   "outputs": [
    {
     "name": "stdout",
     "output_type": "stream",
     "text": [
      "Cuanta caras tiene el dado?: 10\n",
      "Cuantas veces se lanzara el dado?: 20\n",
      "Salieron 0 veces 1\n",
      "Salieron 2 veces 2\n",
      "Salieron 1 veces 3\n",
      "Salieron 1 veces 4\n",
      "Salieron 5 veces 5\n",
      "Salieron 2 veces 6\n",
      "Salieron 2 veces 7\n",
      "Salieron 1 veces 8\n",
      "Salieron 1 veces 9\n",
      "Salieron 5 veces 10\n"
     ]
    }
   ],
   "source": [
    "def dado(n,m):\n",
    "    import random\n",
    "    listas = []\n",
    "    for g in range(1,m+1):\n",
    "        r = random.randint(1,n)\n",
    "        listas += [r]\n",
    "    for caras in range(1,n+1):\n",
    "        x = 0\n",
    "        for veces in range(0,m):\n",
    "            if listas[veces] == caras:\n",
    "                x +=1\n",
    "        print(\"Salieron\",x,\"veces\",caras)\n",
    "dado(int(input(\"Cuanta caras tiene el dado?: \")),int(input(\"Cuantas veces se lanzara el dado?: \")))"
   ]
  },
  {
   "cell_type": "markdown",
   "metadata": {},
   "source": [
    "### N dado función\n",
    "Crear una función que reciba 2 números: N y M, simule el lanzamiento de un dado de N caras M veces y retorne la cantidad de veces que salió cada cara"
   ]
  },
  {
   "cell_type": "code",
   "execution_count": 63,
   "metadata": {},
   "outputs": [
    {
     "name": "stdout",
     "output_type": "stream",
     "text": [
      "N 20\n",
      "M 20\n",
      "Salieron 1 veces 1\n",
      "Salieron 0 veces 2\n",
      "Salieron 0 veces 3\n",
      "Salieron 0 veces 4\n",
      "Salieron 2 veces 5\n",
      "Salieron 0 veces 6\n",
      "Salieron 3 veces 7\n",
      "Salieron 0 veces 8\n",
      "Salieron 2 veces 9\n",
      "Salieron 1 veces 10\n",
      "Salieron 1 veces 11\n",
      "Salieron 1 veces 12\n",
      "Salieron 3 veces 13\n",
      "Salieron 3 veces 14\n",
      "Salieron 0 veces 15\n",
      "Salieron 1 veces 16\n",
      "Salieron 0 veces 17\n",
      "Salieron 0 veces 18\n",
      "Salieron 1 veces 19\n",
      "Salieron 1 veces 20\n"
     ]
    }
   ],
   "source": [
    "dado(int(input(\"N \")),int(input(\"M \")))"
   ]
  },
  {
   "cell_type": "markdown",
   "metadata": {},
   "source": [
    "### Gato\n",
    "\n",
    "Escribir un programa que indique el estado de un tablero de gato:\n",
    "- Gana X\n",
    "- Gana O\n",
    "- Sin terminar\n",
    "\n",
    "\n",
    "0,0 | 0,1 | 0,2\n",
    "--- | --- | ---\n",
    "1,0 | 1,1 | 1,2\n",
    "2,0 | 2,1 | 2,2\n",
    "\n",
    "Debe pedir al usuario el valor en cada posición del tablero"
   ]
  },
  {
   "cell_type": "code",
   "execution_count": 70,
   "metadata": {},
   "outputs": [
    {
     "name": "stdout",
     "output_type": "stream",
     "text": [
      "Ingrese la posición 0,0: x\n",
      "Ingrese la posición 0,1: x\n",
      "Ingrese la posición 0,2: x\n",
      "Ingrese la posición 1,0: o\n",
      "Ingrese la posición 1,1: o\n",
      "Ingrese la posición 1,2: o\n",
      "Ingrese la posición 2,0: x\n",
      "Ingrese la posición 2,1: o\n",
      "Ingrese la posición 2,2: x\n",
      "['x', 'x', 'x']\n",
      "['o', 'o', 'o']\n",
      "['x', 'o', 'x']\n"
     ]
    }
   ],
   "source": [
    "pos0_0 = str(input(\"Ingrese la posición 0,0: \"))\n",
    "pos0_1 = str(input(\"Ingrese la posición 0,1: \"))\n",
    "pos0_2 = str(input(\"Ingrese la posición 0,2: \"))\n",
    "pos1_0 = str(input(\"Ingrese la posición 1,0: \"))\n",
    "pos1_1 = str(input(\"Ingrese la posición 1,1: \"))\n",
    "pos1_2 = str(input(\"Ingrese la posición 1,2: \"))\n",
    "pos2_0 = str(input(\"Ingrese la posición 2,0: \"))\n",
    "pos2_1 = str(input(\"Ingrese la posición 2,1: \"))\n",
    "pos2_2 = str(input(\"Ingrese la posición 2,2: \"))\n",
    "def gato(pos0_0,pos0_1,pos0_2,pos1_0,pos1_1,pos1_2,pos2_0,pos2_1,pos2_2):\n",
    "    tablero = [[pos0_0,pos0_1,pos0_2],[pos1_0,pos1_1,pos1_2],[pos2_0,pos2_1,pos2_2]]\n",
    "    print(\"Este es tu juego:\")\n",
    "    print(tablero[0])\n",
    "    print(tablero[1])\n",
    "    print(tablero[2])"
   ]
  },
  {
   "cell_type": "markdown",
   "metadata": {},
   "source": [
    "### Gato función\n",
    "Escribir una función que reciba un tablero de gato y retorne su estado:\n",
    "- 'X' (si gana X)\n",
    "- 'O' (si gana O)\n",
    "- '' (Si el juego está sin terminar)\n",
    "\n",
    "\n",
    "0,0 | 0,1 | 0,2\n",
    "--- | --- | ---\n",
    "1,0 | 1,1 | 1,2\n",
    "2,0 | 2,1 | 2,2\n"
   ]
  },
  {
   "cell_type": "code",
   "execution_count": null,
   "metadata": {},
   "outputs": [],
   "source": [
    "#Código gato"
   ]
  }
 ],
 "metadata": {
  "anaconda-cloud": {},
  "kernelspec": {
   "display_name": "Python 3",
   "language": "python",
   "name": "python3"
  },
  "language_info": {
   "codemirror_mode": {
    "name": "ipython",
    "version": 3
   },
   "file_extension": ".py",
   "mimetype": "text/x-python",
   "name": "python",
   "nbconvert_exporter": "python",
   "pygments_lexer": "ipython3",
   "version": "3.6.2"
  }
 },
 "nbformat": 4,
 "nbformat_minor": 1
}
