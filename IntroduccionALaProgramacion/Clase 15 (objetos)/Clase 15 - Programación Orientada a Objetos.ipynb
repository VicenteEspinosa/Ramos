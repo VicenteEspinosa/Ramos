{
 "cells": [
  {
   "cell_type": "markdown",
   "metadata": {},
   "source": [
    "# Programación Orientada a Objetos\n",
    "\n",
    "\n",
    "## Motivación\n",
    "\n",
    "La programación nos provee de diversas herramientas. Podemos aspirar a modelar el mundo para solucionar problemas reales\n",
    "\n",
    "![metro](metro.jpg \"Metro\")\n",
    "\n",
    "... o para pasar el tiempo\n",
    "\n",
    "![metro](plants.jpg \"PvsZ\")\n",
    "\n",
    "\n",
    "La Programación Orientada a Objetos es un paradigma de programación que consiste en modelar un problema preocupándose de los **objetos** que en él participan: sus atributos, comportamiento e interacción.\n",
    "\n",
    "\n",
    "## Clases\n",
    "En python, lo que habíamos llamado *tipo de dato* hasta ahora, realmente es una **clase**. Podemos ver una **clase** como un plano o molde: Nos indica cómo construir algo. A partir de este molde, se pueden construir muchos elementos distintos, que se denominan **instancia** de la **clase**, u **objeto**.\n",
    "\n",
    "La función **type()** nos indica a qué clase pertenece un determinado objeto"
   ]
  },
  {
   "cell_type": "code",
   "execution_count": null,
   "metadata": {
    "collapsed": true
   },
   "outputs": [],
   "source": [
    "a = 1\n",
    "b = 1.0\n",
    "c = '1'\n",
    "d = 2 > 3\n",
    "e = [1,2]\n",
    "\n",
    "print(type(a))\n",
    "print(type(b))\n",
    "print(type(c))\n",
    "print(type(d))\n",
    "print(type(e))"
   ]
  },
  {
   "cell_type": "markdown",
   "metadata": {},
   "source": [
    "## Modelando\n",
    "\n",
    "¿Qué clases importantes hay en las siguientes imágenes? ¿Qué atributos y acciones nos interesan de ellos?\n",
    "\n",
    "\n",
    "### Red de Metro\n",
    "\n",
    "\n",
    "![metro](metro.jpg \"Metro\")\n",
    "\n",
    "![objetos metro](subfigures.png \"Objetos Metro\")\n",
    "\n",
    "\n",
    "### Usuario\n",
    "\n",
    "##### Atributos\n",
    "- volumen\n",
    "- posición\n",
    "- destino\n",
    "\n",
    "##### Acciones\n",
    "+ intentar_entrar()\n",
    "+ intentar_salir()\n",
    "\n",
    "### Guardida\n",
    "##### Atributos\n",
    "- volumen\n",
    "- posición\n",
    "\n",
    "##### Acciones\n",
    "+ indicar_cierre_de_puertas()\n",
    "\n",
    "### Metro\n",
    "##### Atributos\n",
    "- volumen_interior\n",
    "- personas_interior\n",
    "- posición\n",
    "\n",
    "##### Acciones\n",
    "+ avanzar()\n",
    "+ detenerse()\n",
    "+ abrir_puertas()\n",
    "+ cerrar_puertas()\n",
    "\n",
    "\n",
    "### Plants vs Zombies\n",
    "\n",
    "![pvsz](plants.jpg \"PvsZ\")\n",
    "\n",
    "![objetos pvsz](subfigures2.png \"Objetos PvsZ\")\n",
    "\n",
    "### Girasol\n",
    "\n",
    "##### Atributos\n",
    "- vida\n",
    "- frecuencia_sol\n",
    "- posición\n",
    "- dibujo\n",
    "\n",
    "##### Acciones\n",
    "+ lanzar_sol()\n",
    "\n",
    "### Zombie\n",
    "##### Atributos\n",
    "- vida\n",
    "- daño\n",
    "- velocidad\n",
    "- posición\n",
    "- dibujo\n",
    "##### Acciones\n",
    "+ comer()\n",
    "+ avanzar()\n",
    "\n",
    "### Planta\n",
    "##### Atributos\n",
    "- vida\n",
    "- daño\n",
    "- frecuencia_ataque\n",
    "- posición\n",
    "- dibujo\n",
    "##### Acciones\n",
    "+ atacar()"
   ]
  },
  {
   "cell_type": "markdown",
   "metadata": {},
   "source": [
    "## Clases\n",
    "\n",
    "Además de las clases que ya vienen defindas en python, podemos crear nuestras propias clases.\n",
    "\n",
    "#### Sintaxis\n",
    "\n",
    "```python\n",
    "\n",
    "#Definición\n",
    "class ClasePropia:\n",
    "    codigo_clase\n",
    "    codigo_clase\n",
    "    codigo_clase\n",
    "    codigo_clase\n",
    "\n",
    "#Instanciación\n",
    "instancia1_de_ClasePropia = ClasePropia()\n",
    "instancia2_de_ClasePropia = ClasePropia()\n",
    "\n",
    "\n",
    "#Acceso a atributo\n",
    "valor_de_atributo = instancia1_de_ClasePropia.atributo\n",
    "\n",
    "#Asignación de atributo\n",
    "instancia1_de_ClasePropia.atributo = valor\n",
    "```\n",
    "\n",
    "#### Ejemplo Persona"
   ]
  },
  {
   "cell_type": "code",
   "execution_count": 1,
   "metadata": {},
   "outputs": [
    {
     "name": "stdout",
     "output_type": "stream",
     "text": [
      "Miguel\n",
      "Fadić\n",
      "25\n",
      "Humana\n",
      "Geraldine\n",
      "Monsalve\n",
      "23\n",
      "Humana\n"
     ]
    }
   ],
   "source": [
    "class Persona:\n",
    "    #No pondremos nada en codigo_clase todavía, pero como python espera algo si indentamos, hay que escribir pass\n",
    "    pass\n",
    "\n",
    "persona1 = Persona()\n",
    "persona1.nombre = 'Miguel'\n",
    "persona1.apellido = 'Fadić'\n",
    "persona1.edad = 25\n",
    "persona1.especie = 'Humana'\n",
    "\n",
    "\n",
    "persona2 = Persona()\n",
    "persona2.nombre = 'Geraldine'\n",
    "persona2.apellido = 'Monsalve'\n",
    "persona2.edad = 23\n",
    "persona2.especie = 'Humana'\n",
    "\n",
    "print(persona1.nombre)\n",
    "print(persona1.apellido)\n",
    "print(persona1.edad)\n",
    "print(persona1.especie)\n",
    "\n",
    "\n",
    "print(persona2.nombre)\n",
    "print(persona2.apellido)\n",
    "print(persona2.edad)\n",
    "print(persona2.especie)\n"
   ]
  },
  {
   "cell_type": "markdown",
   "metadata": {
    "collapsed": true
   },
   "source": [
    "Las funciones definidas dentro de una clase se denominan *métodos*. Son iguales a las funciones normales, excepto porque el primer parámetro de la función corresponde a la *instancia* que está llamando a la función y es entregada de manera automática al momento de hacer la llamada.\n",
    "\n",
    "Un método especial de las clases es ```__init__```, que es llamado cuando se crea una instancia de la clase (por lo mismo, se le conoce como constructor) y retorna la instancia. Podemos redifinir ```__init__``` para que reciba parámetros y asignárselos al objeto al momento de crearlo."
   ]
  },
  {
   "cell_type": "code",
   "execution_count": 6,
   "metadata": {},
   "outputs": [
    {
     "name": "stdout",
     "output_type": "stream",
     "text": [
      "weafef\n",
      "fef\n",
      "Geraldine\n"
     ]
    }
   ],
   "source": [
    "class Persona:\n",
    "    \n",
    "    #Recuerden que el primer parámetro es la instancia de la clase\n",
    "    def __init__(self, nombre):\n",
    "        self.nombre = nombre\n",
    "nombre = str(input(\"wea\"))   \n",
    "persona1 = Persona(nombre)\n",
    "persona2 = Persona('Geraldine')\n",
    "\n",
    "print(persona1.nombre)\n",
    "\n",
    "\n",
    "\n",
    "print(persona2.nombre)\n"
   ]
  },
  {
   "cell_type": "markdown",
   "metadata": {},
   "source": [
    "Si lo pensamos un poco, nos daremos cuenta de que todas las personas son de especie humana. Por lo tanto ese atributo es de la clase Persona y no de sus instancias. Para definir un atributo de la clase basta con asignarlo en la definición de la clase. Todas las instancias de la clase tendrán acceso al mismo valor del atributo."
   ]
  },
  {
   "cell_type": "code",
   "execution_count": null,
   "metadata": {
    "collapsed": true
   },
   "outputs": [],
   "source": [
    "class Persona:\n",
    "    \n",
    "    especie = 'Humana'\n",
    "    \n",
    "    def __init__(self, nombre, apellido, edad):\n",
    "        self.nombre = nombre\n",
    "        self.apellido = apellido\n",
    "        self.edad = edad\n",
    "        \n",
    "persona1 = Persona('Miguel', 'Fadić', 25)\n",
    "persona2 = Persona('Geraldine', 'Monsalve', 23)\n",
    "\n",
    "print(persona1.nombre)\n",
    "print(persona1.apellido)\n",
    "print(persona1.edad)\n",
    "print(persona1.especie)\n",
    "\n",
    "\n",
    "print(persona2.nombre)\n",
    "print(persona2.apellido)\n",
    "print(persona2.edad)\n",
    "print(persona2.especie)"
   ]
  },
  {
   "cell_type": "markdown",
   "metadata": {},
   "source": [
    "La gracia de los métodos de las clases, es que tienen acceso a los atributos. Por lo tanto pueden leerlos y modificarlos. Podemos agregar un método que utilice el nombre de la persona para presentarse."
   ]
  },
  {
   "cell_type": "code",
   "execution_count": 2,
   "metadata": {},
   "outputs": [
    {
     "name": "stdout",
     "output_type": "stream",
     "text": [
      "Hola, mi nombre es Miguel\n",
      "Hola, mi nombre es Geraldine\n"
     ]
    }
   ],
   "source": [
    "class Persona:\n",
    "    \n",
    "    especie = 'Humana'\n",
    "    \n",
    "    def __init__(self, nombre, apellido, edad):\n",
    "        self.nombre = nombre\n",
    "        self.apellido = apellido\n",
    "        self.edad = edad\n",
    "        \n",
    "    def saludar(self):\n",
    "        print('Hola, mi nombre es', self.nombre)\n",
    "        \n",
    "        \n",
    "persona1 = Persona('Miguel', 'Fadić', 25)\n",
    "persona2 = Persona('Geraldine', 'Monsalve', 23)\n",
    "\n",
    "persona1.saludar()\n",
    "persona2.saludar()"
   ]
  },
  {
   "cell_type": "markdown",
   "metadata": {},
   "source": [
    "## Actividades\n",
    "\n",
    "### Personas\n",
    "Extender la clase Persona para que al momento de presentarse, además de decir su nombre diga si es mayor de edad o no"
   ]
  },
  {
   "cell_type": "code",
   "execution_count": 14,
   "metadata": {},
   "outputs": [
    {
     "name": "stdout",
     "output_type": "stream",
     "text": [
      "Hola, mi nombre es vicente y soy mayor de edad , además, estudio Ingenieria\n",
      "Hola, mi nombre es Lucho y no soy mayor de edad , además, estudio College\n"
     ]
    }
   ],
   "source": [
    "class Persona:\n",
    "    \n",
    "    especie = 'Humana'\n",
    "    \n",
    "    def __init__(self, nombre, apellido, edad, carrera):\n",
    "        self.nombre = nombre\n",
    "        self.apellido = apellido\n",
    "        self.edad = edad\n",
    "        self.carrera = carrera\n",
    "        \n",
    "        \n",
    "    def saludar(self):\n",
    "        if self.edad >= 18:\n",
    "            si = \" \"\n",
    "        else:\n",
    "            si = \" no \"\n",
    "        print('Hola, mi nombre es', self.nombre, \"y\" + si + \"soy mayor de edad , además, estudio\", self.carrera)\n",
    "persona1 = Persona(\"vicente\",\"Espinosa\", 18, \"Ingenieria\")\n",
    "persona2 = Persona(\"Lucho\", \"Perez\", 2, \"College\")\n",
    "persona1.saludar()\n",
    "persona2.saludar()"
   ]
  },
  {
   "cell_type": "markdown",
   "metadata": {},
   "source": [
    "Extender la clase Persona para que uno de sus atributos sea su carrera. Al momento de presentarse debe indicar cuál es su carrera."
   ]
  },
  {
   "cell_type": "code",
   "execution_count": null,
   "metadata": {
    "collapsed": true
   },
   "outputs": [],
   "source": [
    "#Código personas extendido"
   ]
  },
  {
   "cell_type": "markdown",
   "metadata": {},
   "source": [
    "### Fracciones\n",
    "Crear una clase Fraccion cuyos atributos sean el numerador y el denominador. Crear un método to_string, que retorne un string que represente la fracción.\n",
    "\n",
    "Por ejemplo\n",
    "```python\n",
    "f = Fraccion(10,12)\n",
    "print(f.to_string()) #muestra en pantalla 10/12\n",
    "```\n"
   ]
  },
  {
   "cell_type": "code",
   "execution_count": 5,
   "metadata": {},
   "outputs": [
    {
     "name": "stdout",
     "output_type": "stream",
     "text": [
      "10/12\n"
     ]
    }
   ],
   "source": [
    "class Fraccion:\n",
    "    def __init__(self,numerador,denominador):\n",
    "            self.numerador = numerador\n",
    "            self.denominador = denominador\n",
    "    def to_string(self):\n",
    "        return(str(str(self.numerador) + \"/\" + str(self.denominador)))\n",
    "f = Fraccion(10,12)\n",
    "print(f.to_string())"
   ]
  },
  {
   "cell_type": "markdown",
   "metadata": {},
   "source": [
    "Extender la clase Fraccion con un método reducir que la lleve a su forma irreductible. Pueden utilizar la función gcd (greatest common divisor) del módulo math para esto.\n",
    "\n",
    "Ejemplo:\n",
    "\n",
    "```python\n",
    "f = Fraccion(20/14)\n",
    "f.reducir()\n",
    "print(f.to_string()) #muestra en pantalla 10/7\n",
    "```"
   ]
  },
  {
   "cell_type": "code",
   "execution_count": 44,
   "metadata": {
    "scrolled": true
   },
   "outputs": [
    {
     "name": "stdout",
     "output_type": "stream",
     "text": [
      "10/7\n"
     ]
    }
   ],
   "source": [
    "from math import gcd\n",
    "class Fraccion:\n",
    "    def __init__(self,numerador,denominador):\n",
    "            self.numerador = numerador\n",
    "            self.denominador = denominador\n",
    "    def to_string(self):\n",
    "        return(str(str(self.numerador) + \"/\" + str(self.denominador)))\n",
    "    def reducir(self):\n",
    "        import math\n",
    "        d = gcd(self.numerador,self.denominador)\n",
    "        self.numerador = str(int(self.numerador) // (d))\n",
    "        self.denominador = str(int(self.denominador) // (d))\n",
    "f = Fraccion(20,14)\n",
    "f.reducir()\n",
    "print(f.to_string())"
   ]
  },
  {
   "cell_type": "markdown",
   "metadata": {},
   "source": [
    "\n",
    "Extender la clase Fraccion para que se puedan sumar fracciones. Para esto, crear un método sumar() que recibe como entrada una Fraccion\n",
    "\n",
    "Ejemplo:\n",
    "```python\n",
    "f1 = Fraccion(20,14)\n",
    "f2 = Fraccion(15,14)\n",
    "f1.sumar(f2)\n",
    "print(f1.to_string()) #muestra en pantalla 5/2\n",
    "```"
   ]
  },
  {
   "cell_type": "code",
   "execution_count": 48,
   "metadata": {},
   "outputs": [
    {
     "name": "stdout",
     "output_type": "stream",
     "text": [
      "5/2\n"
     ]
    }
   ],
   "source": [
    "from math import gcd\n",
    "class Fraccion:\n",
    "    def __init__(self,numerador,denominador):\n",
    "            self.numerador = numerador\n",
    "            self.denominador = denominador\n",
    "    def to_string(self):\n",
    "        return(str(str(self.numerador) + \"/\" + str(self.denominador)))\n",
    "    def reducir(self):\n",
    "        import math\n",
    "        d = gcd(self.numerador,self.denominador)\n",
    "        self.numerador = str(int(self.numerador) // (d))\n",
    "        self.denominador = str(int(self.denominador) // (d))\n",
    "    def sumar(self,frac):\n",
    "        n1 = self.numerador\n",
    "        d1 = self.denominador\n",
    "        n2 = frac.numerador\n",
    "        d2 = frac.denominador\n",
    "        self.denominador = d1 * d2\n",
    "        self.numerador = (n1 * d2) + (n2 * d1)\n",
    "        self.reducir()\n",
    "f1 = Fraccion(20,14)\n",
    "f2 = Fraccion(15,14)\n",
    "f1.sumar(f2)\n",
    "print(f1.to_string())"
   ]
  },
  {
   "cell_type": "code",
   "execution_count": null,
   "metadata": {
    "collapsed": true
   },
   "outputs": [],
   "source": []
  }
 ],
 "metadata": {
  "anaconda-cloud": {},
  "kernelspec": {
   "display_name": "Python 3",
   "language": "python",
   "name": "python3"
  },
  "language_info": {
   "codemirror_mode": {
    "name": "ipython",
    "version": 3
   },
   "file_extension": ".py",
   "mimetype": "text/x-python",
   "name": "python",
   "nbconvert_exporter": "python",
   "pygments_lexer": "ipython3",
   "version": "3.7.3"
  }
 },
 "nbformat": 4,
 "nbformat_minor": 1
}
