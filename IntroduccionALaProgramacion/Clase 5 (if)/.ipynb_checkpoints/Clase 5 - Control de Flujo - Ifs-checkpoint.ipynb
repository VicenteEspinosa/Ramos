{
 "cells": [
  {
   "cell_type": "markdown",
   "metadata": {},
   "source": [
    "# Clase 5\n",
    "\n",
    "# Recapitulemos\n",
    "\n",
    "## if, elif y else\n",
    "\n",
    "### if\n",
    "Permite ejecutar un trozo de código siempre y cuando se cumpla una condición\n",
    "\n",
    "#### Sintaxis:\n",
    "\n",
    "```python\n",
    "if condicion:\n",
    "    bloque_de_codigo_if\n",
    "\n",
    "bloque_de_codigo_fuera_del_if\n",
    "\n",
    "```"
   ]
  },
  {
   "cell_type": "code",
   "execution_count": null,
   "metadata": {
    "collapsed": true
   },
   "outputs": [],
   "source": [
    "numero = int(input(\"Entrega todos los numero del 0 al 9 ah ah ah ah\"))\n",
    "valido = (0 <= numero) and (numero <= 9)\n",
    "if not valido:\n",
    "    print(\"Pelmaso ctm dice del 0 al 9\")\n",
    "if valido:\n",
    "    print(\"Wena\")"
   ]
  },
  {
   "cell_type": "markdown",
   "metadata": {},
   "source": [
    "### else\n",
    "Ejecuta un trozo de código si no se cumple la condición de un **if** anterior\n",
    "\n",
    "\n",
    "#### Sintaxis:\n",
    "\n",
    "```python\n",
    "if condicion:\n",
    "    bloque_de_codigo_if\n",
    "else:\n",
    "    bloque_de_codigo_else\n",
    "bloque_de_codigo_fuera_del_if_else\n",
    "```"
   ]
  },
  {
   "cell_type": "code",
   "execution_count": null,
   "metadata": {
    "collapsed": true
   },
   "outputs": [],
   "source": [
    "numero = int(input(\"Ingresa un número del 0 al 9: \"))\n",
    "valido = (0 <= numero <= 9) \n",
    "if valido:\n",
    " print(\"¡Gracias!\")\n",
    "else:\n",
    "    print(\"Error, ingresaste un número incorrecto\")"
   ]
  },
  {
   "cell_type": "markdown",
   "metadata": {},
   "source": [
    "### elif\n",
    "\n",
    "Ejecuta un trozo de código si se cumple una condición y no se ha cumplido ningún **if** o **elif** anterior (elif viene de else if)\n",
    "\n",
    "\n",
    "#### Sintaxis:\n",
    "\n",
    "```python\n",
    "if condicion_if:\n",
    "    bloque_de_codigo_if\n",
    "elif condicion_elif:\n",
    "    bloque_de_codigo_elif\n",
    "else:\n",
    "    bloque_de_codigo_else\n",
    "bloque_de_codigo_fuera_del_if_else\n",
    "```\n",
    "\n",
    "#### Observaciones\n",
    "\n",
    "1. Debe existir un **if**\n",
    "2. Pueden haber varios **elif**\n",
    "3. Podría no haber **else**"
   ]
  },
  {
   "cell_type": "code",
   "execution_count": 6,
   "metadata": {},
   "outputs": [
    {
     "name": "stdout",
     "output_type": "stream",
     "text": [
      "Ingresa un número del 0 al 9: 5\n",
      "Gracias =)\n"
     ]
    }
   ],
   "source": [
    "numero = int(input(\"Ingresa un número del 0 al 9: \"))\n",
    "\n",
    "if numero < 0:\n",
    "    print('Error, el número es inferior a 0')\n",
    "elif numero > 9:\n",
    "    print('Error, el número es mayor a 9')\n",
    "else:\n",
    "    print(\"Gracias =)\")"
   ]
  },
  {
   "cell_type": "markdown",
   "metadata": {},
   "source": [
    "### Diferencia entre if y elif"
   ]
  },
  {
   "cell_type": "code",
   "execution_count": 9,
   "metadata": {},
   "outputs": [
    {
     "name": "stdout",
     "output_type": "stream",
     "text": [
      "a: -1\n",
      "Sólo if:\n",
      "1\n",
      "2\n",
      "3\n",
      "4\n",
      "elif:\n",
      "1\n"
     ]
    }
   ],
   "source": [
    "a = int(input(\"a: \"))\n",
    "\n",
    "print(\"Sólo if:\")\n",
    "if a < 0:\n",
    "    print(1)\n",
    "if a < 5:\n",
    "    print(2)\n",
    "if a < 10:\n",
    "    print(3)\n",
    "if a < 15:\n",
    "    print(4)\n",
    "else:\n",
    "    print(5)\n",
    "    \n",
    "print(\"elif:\")\n",
    "if a < 0:\n",
    "    print(1)\n",
    "elif a < 5:\n",
    "    print(2)\n",
    "elif a < 10:\n",
    "    print(3)\n",
    "elif a < 15:\n",
    "    print(4)\n",
    "else:\n",
    "    print(5)"
   ]
  },
  {
   "cell_type": "markdown",
   "metadata": {},
   "source": [
    "\n",
    "## Actividad\n",
    "### Calculando el promedio v4\n",
    "\n",
    "Ahora tenemos todas las herramientas para calcular el verdadero promedio final del curso. Escribe un programa que le pida al usuario todas sus notas e imprima su promedio final\n",
    "\n",
    "$$ NF = 0.15 * I1 + 0.15 * I2 + 0.3 * EX + 0.1 * T1 + 0.1 * T2 + 0.1 * T3 + 0.1 * NP$$\n",
    "\n",
    "Sea $$NE = \\frac{0.15 * (I1 + I2) + 0.3 * EX}{0.6}$$\n",
    "\n",
    "y $$NT = \\frac{T1 + T2 + T3}{3}$$\n",
    "\n",
    "Para aprobar el curso se debe cumplir que:\n",
    "\n",
    "* $NE \\geq 4.0 $\n",
    "\n",
    "* $NT \\geq 4.0$\n",
    "\n",
    "En caso contrario, NF es el mínimo entre NF y 3.9\n"
   ]
  },
  {
   "cell_type": "code",
   "execution_count": 7,
   "metadata": {},
   "outputs": [
    {
     "name": "stdout",
     "output_type": "stream",
     "text": [
      "I15\n",
      "I25\n",
      "examen5\n",
      "tarea 15\n",
      "tarea 25\n",
      "tarea 35\n",
      "nota participación5\n",
      "Te salvaste ql\n",
      "tu promedio es\n",
      "5.0\n"
     ]
    }
   ],
   "source": [
    "a= float(input(\"I1\"))\n",
    "b= float(input(\"I2\"))\n",
    "c= float(input(\"examen\"))\n",
    "d= float(input(\"tarea 1\"))\n",
    "e= float(input(\"tarea 2\"))\n",
    "f= float(input(\"tarea 3\"))\n",
    "np= float(input(\"nota participación\"))\n",
    "nf = 0.15 * a + 0.15 * b + 0.3 * c + 0.1 * d + 0.1 * e + 0.1 * f + 0.1 * np\n",
    "nt = (d + e + f)/3\n",
    "if nf<4:\n",
    "    print(\"Cagaste!\")\n",
    "    if nf<3.9:\n",
    "        print(\"tu promedio es\") , print(nf)\n",
    "    else:\n",
    "        print (\"tu promedio es 3.9\")\n",
    "elif nt<4:\n",
    "    print(\"Te lo echaste por las tareas aweonao\")\n",
    "    n= min(3.9, nf)\n",
    "    print(\"tu promedio es\"), print(n)\n",
    "else:\n",
    "    print(\"Te salvaste ql\")\n",
    "    print(\"tu promedio es\") , print(float(nf))"
   ]
  },
  {
   "cell_type": "markdown",
   "metadata": {},
   "source": [
    "5\n",
    "\n",
    "5### Tenis\n",
    "\n",
    "Luego de ver una serie de partios de los Juegos Olímpicos, te dieron ganas de poner en práctica tus nuevos poderes de programación para algo relacionado.\n",
    "Escribe un programa que determina el estado de un set de tenis. El flujo debe ser el siguiente:\n",
    "1. Pedir el nombre de ambos jugadores\n",
    "2. Pedir la cantidad de juegos que ganó el primer jugador\n",
    "3. Pedir la cantidad de juegos que ganó el segundo jugador\n",
    "4. Si el set ha terminado, indicar quién lo ganó\n",
    "5. Si el set no ha terminado, indicar que el set aún no ha terminado\n",
    "6. Mostrar el marcador final\n",
    "\n",
    "[Aquí](https://es.wikipedia.org/wiki/Tenis#Puntuaci.C3.B3n) están las reglas sobre la puntuación del tenis\n",
    "\n",
    "**Dato útil**: para unir 2 strings se puede usar el operador +"
   ]
  },
  {
   "cell_type": "code",
   "execution_count": 8,
   "metadata": {},
   "outputs": [
    {
     "name": "stdout",
     "output_type": "stream",
     "text": [
      "Hola mundo\n"
     ]
    }
   ],
   "source": [
    "a = \"Hola\"\n",
    "b = \"mundo\"\n",
    "c = a + \" \" + b\n",
    "print(c)"
   ]
  },
  {
   "cell_type": "markdown",
   "metadata": {},
   "source": [
    "#### Ejemplos de interacción\n",
    "\n",
    "##### Set terminado normalmente\n",
    "\n",
    "```\n",
    "Ingrese nombre del jugador 1: Federer\n",
    "Ingrese nombre del jugador 2: Murray\n",
    "Empezó el set entre Federer y Murray\n",
    "Ingrese los juegos de Federer: 6\n",
    "Ingrese los juegos de Murray: 2\n",
    "Set terminado. El ganador es Federer\n",
    "Marcador:  6 - 2\n",
    "```\n",
    "\n",
    "\n",
    "##### Set aún no terminado\n",
    "\n",
    "```\n",
    "Ingrese nombre del jugador 1: Federer\n",
    "Ingrese nombre del jugador 2: Nadal\n",
    "Empezó el set entre Federer y Nadal\n",
    "Ingrese los juegos de Federer: 3\n",
    "Ingrese los juegos de Nadal: 5\n",
    "Set no ha terminado.\n",
    "Marcador:  3 - 5\n",
    "```\n",
    "\n",
    "##### Set terminado luego de llegar hasta los 7\n",
    "\n",
    "```\n",
    "Ingrese nombre del jugador 1: Djokovic\n",
    "Ingrese nombre del jugador 2: Nadal\n",
    "Empezó el set entre Djokovic y Nadal\n",
    "Ingrese los juegos de Djokovic: 7\n",
    "Ingrese los juegos de Nadal: 5\n",
    "Set terminado. El ganador es Djokovic\n",
    "Marcador:  7 - 5\n",
    "```\n",
    "\n",
    "##### Set con puntaje imposible\n",
    "\n",
    "```\n",
    "Ingrese nombre del jugador 1: Murray\n",
    "Ingrese nombre del jugador 2: Wawrinka\n",
    "Empezó el set entre Murray y Wawrinka\n",
    "Ingrese los juegos de Murray: 8\n",
    "Ingrese los juegos de Wawrinka: 2\n",
    "Error. Juegos ingresados no corresponden a un set.\n",
    "Marcador:  8 - 2\n",
    "```\n",
    "\n",
    "##### Set con puntaje imposible\n",
    "\n",
    "```\n",
    "Ingrese nombre del jugador 1: Wawrinka\n",
    "Ingrese nombre del jugador 2: Gonzalez\n",
    "Empezó el set entre Wawrinka y Gonzalez\n",
    "Ingrese los juegos de Wawrinka: 4\n",
    "Ingrese los juegos de Gonzalez: 7\n",
    "Error. Juegos ingresados no corresponden a un set.\n",
    "Marcador:  4 - 7\n",
    "```\n",
    "\n",
    "##### Set no terminado (llegará al menos hasta los 15)\n",
    "\n",
    "```\n",
    "Ingrese nombre del jugador 1: Massu\n",
    "Ingrese nombre del jugador 2: Roddick\n",
    "Empezó el set entre Massu y Roddick\n",
    "Ingrese los juegos de Massu: 14\n",
    "Ingrese los juegos de Roddick: 13\n",
    "Set no ha terminado.\n",
    "Marcador set:  14 - 13\n",
    "```\n",
    "\n",
    "##### Set terminado\n",
    "\n",
    "```\n",
    "Ingrese nombre del jugador 1: Massu\n",
    "Ingrese nombre del jugador 2: Roddick\n",
    "Empezó el set entre Massu y Roddick\n",
    "Ingrese los juegos de Massu: 15\n",
    "Ingrese los juegos de Roddick: 13\n",
    "Set terminado. El ganador es Massu\n",
    "Marcador set:  15 - 13\n",
    "```"
   ]
  },
  {
   "cell_type": "code",
   "execution_count": 23,
   "metadata": {},
   "outputs": [
    {
     "name": "stdout",
     "output_type": "stream",
     "text": [
      "Ingrese nombre del jugador 1: 5\n",
      "Ingrese nombre del jugador 2: 5\n",
      "Empezó el set entre 5 y 5\n",
      "Ingrese los juegos de 5: 100\n",
      "Ingrese los juegos de 5: 99\n",
      "Set no ha terminado.\n",
      "Marcador set: 100 - 99\n"
     ]
    }
   ],
   "source": [
    "j1 = input(\"Ingrese nombre del jugador 1: \")\n",
    "j2 = input(\"Ingrese nombre del jugador 2: \")\n",
    "print(\"Empezó el set entre\",j1,\"y\",j2)\n",
    "p1 = int(input(\"Ingrese los juegos de \"+j1 + \": \"))\n",
    "p2 = int(input(\"Ingrese los juegos de \"+j2 + \": \"))\n",
    "if p1==7:\n",
    "    if p2 <=5:\n",
    "        print(\"Set terminado. El ganador es \"+ j1)\n",
    "    elif (p2 - p1) == 2:\n",
    "        print(\"Set terminado. El ganador es \" + j2)\n",
    "    elif (p2 - p1) > 2:\n",
    "        print(\"Error. Juegos ingresados no corresponden a un set.\")\n",
    "    elif(p2 - p1) <= 1:\n",
    "        print(\"Set no ha terminado.\")\n",
    "if p1 <6:\n",
    "    if p2<= 6:\n",
    "        print(\"Set no ha terminado.\")\n",
    "    elif p2 == 7:\n",
    "        print(\"Set terminado. El ganador es \" + j2)\n",
    "    elif p2 > 8:\n",
    "        print(\"Error. Juegos ingresados no corresponden a un set.\")\n",
    "if p1 > 7:\n",
    "    if (p2 - p1) == 2:\n",
    "        print(\"Set terminado. El ganador es \" + j2)\n",
    "    elif (p1 - p2) == 2:\n",
    "        print(\"Set terminado. El ganador es \" + j1)\n",
    "    elif abs(p1 - p2) <= 1:\n",
    "        print(\"Set no ha terminado.\")\n",
    "    else:\n",
    "        print(\"Error. Juegos ingresados no corresponden a un set.\")\n",
    "if p1 == 6:\n",
    "    if p2 == 8:\n",
    "        print(\"Set terminado. El ganador es \" + j2)\n",
    "    elif p2 <= 7:\n",
    "        print(\"Set no ha terminado.\")\n",
    "    else:\n",
    "        print(\"Error. Juegos ingresados no corresponden a un set.\")\n",
    "print(\"Marcador set:\",p1,\"-\",p2)"
   ]
  },
  {
   "cell_type": "markdown",
   "metadata": {},
   "source": [
    "\n",
    "### Tenis con tie-break\n",
    "\n",
    "El mismo programa anterior, pero agregando lo siguiente:\n",
    "\n",
    "7. Considerar tie-break para el set. Esto implica volver a preguntar los puntos de cada jugador cuando el marcador actual es 6-6.\n",
    "\n",
    "#### Ejemplos de interacción\n",
    "\n",
    "###### Set con tie-break terminado\n",
    "```\n",
    "Ingrese nombre del jugador 1: Murray\n",
    "Ingrese nombre del jugador 2: Federer\n",
    "Empezó el set entre Murray y Federer\n",
    "Ingrese los juegos de Murray: 6\n",
    "Ingrese los juegos de Federer: 6\n",
    "Set debe ir a tiebreak.\n",
    "Ingrese los puntos de tiebreak de Murray: 8\n",
    "Ingrese los puntos de tiebreak de Federer: 10\n",
    "Federer gana el tiebreak y el set\n",
    "Tiebreak:  8 - 10\n",
    "Marcador set:  6 - 7\n",
    "```\n",
    "\n",
    "##### Set con tie-break no terminado\n",
    "```\n",
    "Ingrese nombre del jugador 1: Nadal\n",
    "Ingrese nombre del jugador 2: Jarry\n",
    "Empezó el set entre Nadal y Jarry\n",
    "Ingrese los juegos de Nadal: 6\n",
    "Ingrese los juegos de Jarry: 6\n",
    "Set debe ir a tiebreak.\n",
    "Ingrese los puntos de tiebreak de Nadal: 3\n",
    "Ingrese los puntos de tiebreak de Jarry: 6\n",
    "Tiebreak:  3 - 6\n",
    "Marcador set:  6 - 6\n",
    "```\n",
    "\n",
    "##### Set con tie-break con puntaje imposible\n",
    "```\n",
    "Ingrese nombre del jugador 1: Podlipnik\n",
    "Ingrese nombre del jugador 2: Garin\n",
    "Empezó el set entre Podlipnik y Garin\n",
    "Ingrese los juegos de Podlipnik: 6\n",
    "Ingrese los juegos de Garin: 6\n",
    "Set debe ir a tiebreak.\n",
    "Ingrese los puntos de tiebreak de Podlipnik: 8\n",
    "Ingrese los puntos de tiebreak de Garin: 5\n",
    "Error. Puntos ingresados no corresponden a un tiebreak.\n",
    "Tiebreak:  8 - 5\n",
    "Marcador set:  6 - 6\n",
    "```"
   ]
  },
  {
   "cell_type": "code",
   "execution_count": null,
   "metadata": {
    "collapsed": true
   },
   "outputs": [],
   "source": [
    "#Código tenis con tie-break"
   ]
  }
 ],
 "metadata": {
  "anaconda-cloud": {},
  "kernelspec": {
   "display_name": "Python 3",
   "language": "python",
   "name": "python3"
  },
  "language_info": {
   "codemirror_mode": {
    "name": "ipython",
    "version": 3
   },
   "file_extension": ".py",
   "mimetype": "text/x-python",
   "name": "python",
   "nbconvert_exporter": "python",
   "pygments_lexer": "ipython3",
   "version": "3.6.2"
  }
 },
 "nbformat": 4,
 "nbformat_minor": 1
}
