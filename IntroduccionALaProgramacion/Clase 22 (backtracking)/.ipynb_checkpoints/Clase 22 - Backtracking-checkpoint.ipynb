{
 "cells": [
  {
   "cell_type": "markdown",
   "metadata": {},
   "source": [
    "# Actividades"
   ]
  },
  {
   "cell_type": "markdown",
   "metadata": {},
   "source": [
    "## Knight's tour\n",
    "El problema del caballo o *Knight's tour* consiste en: dado un tablero de n x n y una posición inicial encontrar una secuencia de movimientos que recorran cada celda exactamente una vez\n",
    "![caballo](caballo.gif 'caballo')"
   ]
  },
  {
   "cell_type": "code",
   "execution_count": null,
   "metadata": {},
   "outputs": [],
   "source": [
    "#Código Knight's tour"
   ]
  },
  {
   "cell_type": "markdown",
   "metadata": {},
   "source": [
    "## N-queens\n",
    "El problema de las N-reinas o *N-queens* consiste en: dado un tablero de n x n colocar n reinas en el tablero de forma tal que ninguna reina pueda atacar a otra.\n",
    "![reinas](reinas2.png 'reinas')"
   ]
  },
  {
   "cell_type": "code",
   "execution_count": null,
   "metadata": {},
   "outputs": [],
   "source": [
    "#Código n-queens"
   ]
  }
 ],
 "metadata": {
  "anaconda-cloud": {},
  "kernelspec": {
   "display_name": "Python 3",
   "language": "python",
   "name": "python3"
  },
  "language_info": {
   "codemirror_mode": {
    "name": "ipython",
    "version": 3
   },
   "file_extension": ".py",
   "mimetype": "text/x-python",
   "name": "python",
   "nbconvert_exporter": "python",
   "pygments_lexer": "ipython3",
   "version": "3.6.2"
  }
 },
 "nbformat": 4,
 "nbformat_minor": 1
}
