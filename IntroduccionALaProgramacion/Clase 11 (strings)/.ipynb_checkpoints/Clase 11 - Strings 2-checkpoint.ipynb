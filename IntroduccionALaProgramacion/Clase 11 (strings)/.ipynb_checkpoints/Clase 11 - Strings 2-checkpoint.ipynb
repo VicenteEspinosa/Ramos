{
 "cells": [
  {
   "cell_type": "markdown",
   "metadata": {},
   "source": [
    "# Clase 11\n",
    "\n",
    "## Strings\n",
    "\n",
    "### Slicing\n",
    "\n",
    "Existe una notación que permite obtener *slices* (trozos) de una secuencia\n",
    "\n",
    "##### Sintaxis\n",
    "\n",
    "```python\n",
    "s = 'algún string'\n",
    "s[i:j] #trozo de s desde i a j (j no incluído)\n",
    "s[i:j:k] # trozo de s desde i a j con paso k\n",
    "```\n",
    "\n",
    "##### Ejemplo\n",
    "\n",
    "y | o |   | s | o | y |   | t | u |   | p | a | d | r | e\n",
    "--- | --- | ---\n",
    "0 | 1 | 2 | 3 | 4 | 5 | 6 | 7 | 8 | 9 | 10 | 11 | 12 | 13 | 14"
   ]
  },
  {
   "cell_type": "code",
   "execution_count": 7,
   "metadata": {},
   "outputs": [
    {
     "name": "stdout",
     "output_type": "stream",
     "text": [
      "o\n",
      "soy t\n",
      "yo so\n",
      "u padre\n",
      "y o upde\n",
      "erdap ut yos\n",
      "erdap ut yos oy\n"
     ]
    }
   ],
   "source": [
    "s = \"yo soy tu padre\"\n",
    "print(s[1])\n",
    "print(s[3:8])\n",
    "print(s[:5])\n",
    "print(s[8:])\n",
    "print(s[::2])\n",
    "print(s[15:2:-1])\n",
    "print(s[::-1])"
   ]
  },
  {
   "cell_type": "markdown",
   "metadata": {},
   "source": [
    "### Métodos\n",
    "\n",
    "Los strings poseen muchos métodos útiles. Pueden revisar cuáles son todos en la [documentación oficial](https://docs.python.org/3.5/library/stdtypes.html#string-methods)\n",
    "\n",
    "Algunos métodos útiles son los siguientes (asumimos que tenemos un string en una variable s):\n",
    "\n",
    "#### s.find(sub[, inicio[, fin]])\n",
    "Retorna el índice de la primera ocurrencia de *sub* en *s* (-1 si no se encuentra). Los argumentos opcionales *inicio* y *fin* se interpretan como en la notación de *slicing*.\n",
    "\n",
    "#### s.rfind(sub[, inicio[, fin]])\n",
    "Análogo a find pero busca desde la derecha. Los argumentos opcionales *inicio* y *fin* se interpretan como en la notación de *slicing*."
   ]
  },
  {
   "cell_type": "code",
   "execution_count": 1,
   "metadata": {},
   "outputs": [
    {
     "name": "stdout",
     "output_type": "stream",
     "text": [
      "16\n",
      "73\n",
      "22\n",
      "-1\n",
      "de la vida es hacer las cosas que la gente dice que no po\n"
     ]
    }
   ],
   "source": [
    "s = 'el mejor placer de la vida es hacer las cosas que la gente dice que no podemos hacer'\n",
    "print(s.find('d'))\n",
    "print(s.rfind('d'))\n",
    "print(s.find('vida'))\n",
    "print(s.find('paz'))\n",
    "print(s[s.find('d'):s.rfind('d')])"
   ]
  },
  {
   "cell_type": "code",
   "execution_count": 13,
   "metadata": {},
   "outputs": [
    {
     "name": "stdout",
     "output_type": "stream",
     "text": [
      "73\n",
      "59\n",
      "24\n",
      "16\n"
     ]
    }
   ],
   "source": [
    "s = 'el mejor placer de la vida es hacer las cosas que la gente dice que no podemos hacer'\n",
    "\n",
    "pos = s.rfind('d')\n",
    "\n",
    "while pos!= -1:\n",
    "    print(pos)\n",
    "    pos = s.rfind('d',0, pos)"
   ]
  },
  {
   "cell_type": "markdown",
   "metadata": {},
   "source": [
    "#### s.lower()\n",
    "Retorna s en minúscula\n",
    "\n",
    "#### s.upper()\n",
    "Retorna s en mayúscula\n",
    "\n",
    "#### s.capitalize()\n",
    "Retorna s con la primera letra en mayúscula"
   ]
  },
  {
   "cell_type": "code",
   "execution_count": 16,
   "metadata": {},
   "outputs": [
    {
     "name": "stdout",
     "output_type": "stream",
     "text": [
      "hirh orhr\n",
      "LA PERSEVERANCIA PUEDE CAMBIAR UN FRACASO EN UN EXTRAORDINARIO LOGRO\n",
      "La perseverancia puede cambiar un fracaso en un extraordinario logro\n",
      "Hirh orhr\n"
     ]
    }
   ],
   "source": [
    "s = 'La perseverancia puede cambiar un fracaso en un extraordinario logro'\n",
    "f = str(input())\n",
    "print(s.upper())\n",
    "print(s)\n",
    "print(f.capitalize())"
   ]
  },
  {
   "cell_type": "markdown",
   "metadata": {},
   "source": [
    "#### s.strip([chars])\n",
    "Retorna *s* sin cualquier combinación de los caracteres en *chars* al inicio y al final. Si no se entrega *chars* como parámetro entonces se eliminan los *white spaces* (espacios, tabs y saltos de línea)\n",
    "\n",
    "#### s.lstrip([chars])\n",
    "Análogo a strip pero solo concidera los caracteres del inicio\n",
    "\n",
    "#### s.rstrip([chars])\n",
    "Análogo a strip pero solo considera los caracteres del final"
   ]
  },
  {
   "cell_type": "code",
   "execution_count": 18,
   "metadata": {},
   "outputs": [
    {
     "name": "stdout",
     "output_type": "stream",
     "text": [
      "espacioso\n",
      "espacioso    \n",
      "    espacioso\n",
      "pagina\n",
      "www.pagina\n",
      "pagina.com\n"
     ]
    }
   ],
   "source": [
    "s = '    espacioso    '\n",
    "\n",
    "print(s.strip())\n",
    "print(s.lstrip())\n",
    "print(s.rstrip())\n",
    "\n",
    "s = 'www.pagina.com'\n",
    "\n",
    "print(s.strip('.wmco'))\n",
    "print(s.rstrip('w.com'))\n",
    "print(s.lstrip('w.com'))"
   ]
  },
  {
   "cell_type": "markdown",
   "metadata": {
    "collapsed": true
   },
   "source": [
    "#### s.startswith(prefijo[, inicio[, fin]])\n",
    "Retorna True ssi *s* comienza con *prefijo*. Si se entrega *inicio* la comparación comienza en la posición *inicio*. Si se entrega *fin* la comparación se hace hasta la posición *fin*\n",
    "\n",
    "#### s.endswith(sufijo[, inicio[, fin]])\n",
    "Retorna True ssi *s* termina con *sufijo*. Si se entrega *inicio* la comparación comienza desde la posición *inicio*. Si se entrega *fin* la comparación termina en la posición *fin*"
   ]
  },
  {
   "cell_type": "code",
   "execution_count": 20,
   "metadata": {},
   "outputs": [
    {
     "name": "stdout",
     "output_type": "stream",
     "text": [
      "True\n",
      "True\n"
     ]
    }
   ],
   "source": [
    "s = 'Mientras subía y subía, el globo se le escapaba el niño.'\n",
    "\n",
    "print(s.startswith('Mientras s'))\n",
    "print(s.endswith('niño.'))"
   ]
  },
  {
   "cell_type": "markdown",
   "metadata": {
    "collapsed": true
   },
   "source": [
    "#### s.isalpha()\n",
    "Retorna True ssi *s* solo tiene letras y es de largo al menos 1\n",
    "\n",
    "#### s.isdigit()\n",
    "Retorna True ssi *s* solo tiene número y es de largo al menos 1"
   ]
  },
  {
   "cell_type": "code",
   "execution_count": 23,
   "metadata": {},
   "outputs": [
    {
     "name": "stdout",
     "output_type": "stream",
     "text": [
      "False\n",
      "True\n",
      "False\n",
      "True\n"
     ]
    }
   ],
   "source": [
    "s = '''No he fracasado. Sólo acabo de encontrar 10.000 maneras\n",
    "de no lograrlo'''\n",
    "\n",
    "print(s.isalpha())\n",
    "print(s[6:15].isalpha()) #fracasado\n",
    "\n",
    "print(s[41:47].isdigit()) #10.000\n",
    "print(s[41:43].isdigit()) #10"
   ]
  },
  {
   "cell_type": "markdown",
   "metadata": {},
   "source": [
    "#### s.count(sub[, inicio[, fin]])\n",
    "Retorna la cantidad de veces que *sub* aparece en *s* son sobrelape. Si se entrega *inicio* la comparación comienza en la posición *inicio*. Si se entrega *fin* la comparación se hace hasta la posición *fin*"
   ]
  },
  {
   "cell_type": "code",
   "execution_count": null,
   "metadata": {
    "collapsed": true
   },
   "outputs": [],
   "source": [
    "s = 'Fue desamor a primera vista'\n",
    "\n",
    "print(s.count('e'))\n",
    "print(s.count('a '))\n",
    "print(s.count('desamor'))\n",
    "print(s.count('fue'))"
   ]
  },
  {
   "cell_type": "markdown",
   "metadata": {},
   "source": [
    "#### s.replace(viejo, nuevo[, cantidad])\n",
    "\n",
    "Retorna una copia de s con todas las ocurrencias de *viejo* reemplazas por *nuevo*. Si se entrega el parámetro *cantidad*, solo se reemplazan las primeras *cantidad* ocurrencias de viejo"
   ]
  },
  {
   "cell_type": "code",
   "execution_count": 24,
   "metadata": {},
   "outputs": [
    {
     "name": "stdout",
     "output_type": "stream",
     "text": [
      "el éxito llega cuando superas tus excusas.\n",
      "el.éxito.llega.cuando.tus.sueños.superan.tus.excusas.\n",
      "el éxito llega cuando tus sueños superan tus excusas\n"
     ]
    }
   ],
   "source": [
    "s = 'el éxito llega cuando tus sueños superan tus excusas.'\n",
    "\n",
    "#cambiar frase\n",
    "print(s.replace('tus sueños superan', 'superas'))\n",
    "\n",
    "#quitar espacios\n",
    "print(s.replace(' ',\".\"))\n",
    "\n",
    "#eliminar puntuación\n",
    "s = s.replace('.', '').replace(',', '').replace(':', '').replace(';', '')\n",
    "s = s.replace('¡', '').replace('!', '').replace('¿', '').replace('?', '')\n",
    "print(s)"
   ]
  },
  {
   "cell_type": "markdown",
   "metadata": {},
   "source": [
    "## Actividades\n",
    "\n",
    "### Minusculizador (?), despuntuador (?) y removedor de caracteres especiales\n",
    "Crear una función que reciba un string y lo retorne en minúscula y sin signos de puntuación (.,:;¡!¿?) ni caracteres especiales (\\n, \\t, \\', \\\", \\', \\\\)"
   ]
  },
  {
   "cell_type": "code",
   "execution_count": null,
   "metadata": {
    "collapsed": true
   },
   "outputs": [],
   "source": []
  },
  {
   "cell_type": "markdown",
   "metadata": {},
   "source": [
    "### Contador de dígitos\n",
    "Crear una función que reciba un string y retorne la cantidad de números entre 0 y 9 que tiene el string"
   ]
  },
  {
   "cell_type": "code",
   "execution_count": 26,
   "metadata": {},
   "outputs": [
    {
     "name": "stdout",
     "output_type": "stream",
     "text": [
      "jnk6565k \n",
      "El numero de digitos es 4\n"
     ]
    }
   ],
   "source": [
    "s = str(input())\n",
    "l = len(s)\n",
    "n = 0\n",
    "for i in range(0,l):\n",
    "    if (s[i].isdigit() == True):\n",
    "        n += 1\n",
    "print(\"El numero de digitos es\",n)"
   ]
  },
  {
   "cell_type": "markdown",
   "metadata": {},
   "source": [
    "### Palíndromo\n",
    "Una palabra es palíndroma si se lee igual de izquierda a derecha que de derecha a izquierda. \n",
    "**Ana** es un palíndromo\n",
    "\n",
    "Una frase es palíndroma si se lee igual de izquierda a derecha sin considerar espacios ni puntuación\n",
    "**Anita lava la tina** es un palíndromo\n",
    "\n",
    "Crear una función que reciba un string y retorne True ssi es palíndromo"
   ]
  },
  {
   "cell_type": "code",
   "execution_count": 2,
   "metadata": {},
   "outputs": [
    {
     "name": "stdout",
     "output_type": "stream",
     "text": [
      "asdf fdsa\n",
      "Palindromo\n"
     ]
    }
   ],
   "source": [
    "def palindromo(r):\n",
    "    r = r.replace(' ',\"\")\n",
    "    r = r.replace('.',\"\")\n",
    "    r = r.replace(',',\"\")\n",
    "    s = r.lower()\n",
    "    if (s == s[::-1]):\n",
    "        print(\"Palindromo\")\n",
    "    else:\n",
    "        print(\"No palindromo\")\n",
    "palindromo(str(input()))"
   ]
  },
  {
   "cell_type": "markdown",
   "metadata": {},
   "source": [
    "### email\n",
    "Crear una función que reciba un string y retorne True ssi el string es un correo electrónico válido"
   ]
  },
  {
   "cell_type": "code",
   "execution_count": null,
   "metadata": {
    "collapsed": true
   },
   "outputs": [],
   "source": []
  }
 ],
 "metadata": {
  "anaconda-cloud": {},
  "kernelspec": {
   "display_name": "Python 3",
   "language": "python",
   "name": "python3"
  },
  "language_info": {
   "codemirror_mode": {
    "name": "ipython",
    "version": 3
   },
   "file_extension": ".py",
   "mimetype": "text/x-python",
   "name": "python",
   "nbconvert_exporter": "python",
   "pygments_lexer": "ipython3",
   "version": "3.6.2"
  }
 },
 "nbformat": 4,
 "nbformat_minor": 1
}
