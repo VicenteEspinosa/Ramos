{
 "cells": [
  {
   "cell_type": "markdown",
   "metadata": {},
   "source": [
    "*Nombre: Vicente Espinosa Gonzalez*"
   ]
  },
  {
   "cell_type": "markdown",
   "metadata": {},
   "source": [
    "*1*\n",
    "\n",
    "*La base de datos usada es __Contol3DB.db__, la cual esta en la misma carpeta que este notebook*"
   ]
  },
  {
   "cell_type": "code",
   "execution_count": 30,
   "metadata": {},
   "outputs": [],
   "source": [
    "from sklearn.linear_model import LinearRegression\n",
    "from sklearn.model_selection import train_test_split\n",
    "from sklearn.model_selection import cross_val_score\n",
    "import pandas as pd\n",
    "import matplotlib.pyplot as plt\n",
    "from sklearn import datasets\n",
    "import sqlite3\n",
    "import numpy as np"
   ]
  },
  {
   "cell_type": "markdown",
   "metadata": {},
   "source": [
    "*2.1.1*"
   ]
  },
  {
   "cell_type": "code",
   "execution_count": 113,
   "metadata": {},
   "outputs": [
    {
     "name": "stdout",
     "output_type": "stream",
     "text": [
      "            0       1\n",
      "0    59072234   58460\n",
      "1    13984404  130316\n",
      "2     1584008    4050\n",
      "3     3950000    2300\n",
      "4     5887820   12925\n",
      "..        ...     ...\n",
      "307  10459701  168800\n",
      "308   5001190   21282\n",
      "309   3386698   21925\n",
      "310   1798500    9500\n",
      "311   3979700   36300\n",
      "\n",
      "[312 rows x 2 columns]\n"
     ]
    }
   ],
   "source": [
    "con = sqlite3.connect(\"Control3DB.db\")\n",
    "cur = con.cursor()\n",
    "cur.execute(\"select cantidad, metros_plaza from presupuesto JOIN areas_verdes USING(id_comuna)\")\n",
    "presupuesto_plaza = pd.DataFrame(cur.fetchall())\n",
    "con.close()\n",
    "\n",
    "print(presupuesto_plaza)\n",
    "con.close()"
   ]
  },
  {
   "cell_type": "code",
   "execution_count": 91,
   "metadata": {},
   "outputs": [],
   "source": [
    "array1 = np.array(presupuesto_plaza)"
   ]
  },
  {
   "cell_type": "code",
   "execution_count": 92,
   "metadata": {},
   "outputs": [],
   "source": [
    "presu = array1[:,[True, False]]\n",
    "plaza = array1[:,[False, True]]"
   ]
  },
  {
   "cell_type": "code",
   "execution_count": 93,
   "metadata": {},
   "outputs": [],
   "source": [
    "train_set, test_set = train_test_split(array1, test_size=0.15)"
   ]
  },
  {
   "cell_type": "code",
   "execution_count": 62,
   "metadata": {},
   "outputs": [
    {
     "data": {
      "text/plain": [
       "LinearRegression()"
      ]
     },
     "execution_count": 62,
     "metadata": {},
     "output_type": "execute_result"
    }
   ],
   "source": [
    "array1 = np.array(presupuesto_plaza)\n",
    "presu_train = train_set[:, [True, False]]\n",
    "plaza_train = train_set[:, [False, True]]\n",
    "lin_reg = LinearRegression()\n",
    "lin_reg.fit(presu_train, plaza_train)"
   ]
  },
  {
   "cell_type": "code",
   "execution_count": 52,
   "metadata": {},
   "outputs": [
    {
     "data": {
      "image/png": "[encoded data removed]",
      "text/plain": [
       "<Figure size 432x288 with 1 Axes>"
      ]
     },
     "metadata": {
      "needs_background": "light"
     },
     "output_type": "display_data"
    }
   ],
   "source": [
    "fig = plt.figure()\n",
    "ax = fig.add_axes([0,0,1,1])\n",
    "\n",
    "ax.scatter(presu, plaza )\n",
    "\n",
    "# Estamos graficando una recta que en el eje X tiene el arreglo setosa_sepal_width\n",
    "# Y en el eje Y agregamos las predicciones para esos valores de X\n",
    "plt.plot(presu, lin_reg.predict(plaza), color=\"orange\")\n",
    "\n",
    "ax.set_xlabel('Presupuesto')\n",
    "ax.set_ylabel('Area Plaza')\n",
    "plt.show()"
   ]
  },
  {
   "cell_type": "code",
   "execution_count": 84,
   "metadata": {},
   "outputs": [],
   "source": [
    "presu_test = test_set[:, [True, False]]\n",
    "plaza_test = test_set[:, [False, True]]\n",
    "\n",
    "length_predictions = lin_reg.predict(presu_test)"
   ]
  },
  {
   "cell_type": "code",
   "execution_count": 109,
   "metadata": {},
   "outputs": [
    {
     "data": {
      "text/html": [
       "<div>\n",
       "<style scoped>\n",
       "    .dataframe tbody tr th:only-of-type {\n",
       "        vertical-align: middle;\n",
       "    }\n",
       "\n",
       "    .dataframe tbody tr th {\n",
       "        vertical-align: top;\n",
       "    }\n",
       "\n",
       "    .dataframe thead th {\n",
       "        text-align: right;\n",
       "    }\n",
       "</style>\n",
       "<table border=\"1\" class=\"dataframe\">\n",
       "  <thead>\n",
       "    <tr style=\"text-align: right;\">\n",
       "      <th></th>\n",
       "      <th>0</th>\n",
       "      <th>1</th>\n",
       "    </tr>\n",
       "  </thead>\n",
       "  <tbody>\n",
       "    <tr>\n",
       "      <th>0</th>\n",
       "      <td>59072234</td>\n",
       "      <td>58460</td>\n",
       "    </tr>\n",
       "    <tr>\n",
       "      <th>1</th>\n",
       "      <td>13984404</td>\n",
       "      <td>130316</td>\n",
       "    </tr>\n",
       "    <tr>\n",
       "      <th>2</th>\n",
       "      <td>1584008</td>\n",
       "      <td>4050</td>\n",
       "    </tr>\n",
       "    <tr>\n",
       "      <th>3</th>\n",
       "      <td>3950000</td>\n",
       "      <td>2300</td>\n",
       "    </tr>\n",
       "    <tr>\n",
       "      <th>4</th>\n",
       "      <td>5887820</td>\n",
       "      <td>12925</td>\n",
       "    </tr>\n",
       "    <tr>\n",
       "      <th>...</th>\n",
       "      <td>...</td>\n",
       "      <td>...</td>\n",
       "    </tr>\n",
       "    <tr>\n",
       "      <th>307</th>\n",
       "      <td>10459701</td>\n",
       "      <td>168800</td>\n",
       "    </tr>\n",
       "    <tr>\n",
       "      <th>308</th>\n",
       "      <td>5001190</td>\n",
       "      <td>21282</td>\n",
       "    </tr>\n",
       "    <tr>\n",
       "      <th>309</th>\n",
       "      <td>3386698</td>\n",
       "      <td>21925</td>\n",
       "    </tr>\n",
       "    <tr>\n",
       "      <th>310</th>\n",
       "      <td>1798500</td>\n",
       "      <td>9500</td>\n",
       "    </tr>\n",
       "    <tr>\n",
       "      <th>311</th>\n",
       "      <td>3979700</td>\n",
       "      <td>36300</td>\n",
       "    </tr>\n",
       "  </tbody>\n",
       "</table>\n",
       "<p>312 rows × 2 columns</p>\n",
       "</div>"
      ],
      "text/plain": [
       "            0       1\n",
       "0    59072234   58460\n",
       "1    13984404  130316\n",
       "2     1584008    4050\n",
       "3     3950000    2300\n",
       "4     5887820   12925\n",
       "..        ...     ...\n",
       "307  10459701  168800\n",
       "308   5001190   21282\n",
       "309   3386698   21925\n",
       "310   1798500    9500\n",
       "311   3979700   36300\n",
       "\n",
       "[312 rows x 2 columns]"
      ]
     },
     "execution_count": 109,
     "metadata": {},
     "output_type": "execute_result"
    }
   ],
   "source": [
    "df_presu_plaza = pd.DataFrame(presupuesto_plaza)\n",
    "df_presu_plaza"
   ]
  },
  {
   "cell_type": "code",
   "execution_count": 110,
   "metadata": {},
   "outputs": [
    {
     "data": {
      "text/plain": [
       "0    1.000000\n",
       "1    0.665585\n",
       "Name: 0, dtype: float64"
      ]
     },
     "execution_count": 110,
     "metadata": {},
     "output_type": "execute_result"
    }
   ],
   "source": [
    "corr_matrix = df_presu_plaza.corr()\n",
    "corr_matrix[0].sort_values(ascending=False)"
   ]
  },
  {
   "cell_type": "markdown",
   "metadata": {},
   "source": [
    "*2.1.2*"
   ]
  },
  {
   "cell_type": "code",
   "execution_count": 112,
   "metadata": {},
   "outputs": [
    {
     "name": "stdout",
     "output_type": "stream",
     "text": [
      "            0       1\n",
      "0    59072234  153284\n",
      "1    13984404  130316\n",
      "2     1584008    4050\n",
      "3     3950000    2300\n",
      "4     5887820   33674\n",
      "..        ...     ...\n",
      "307  10459701  251026\n",
      "308   5001190   21282\n",
      "309   3386698   21925\n",
      "310   1798500    9500\n",
      "311   3979700   40480\n",
      "\n",
      "[312 rows x 2 columns]\n"
     ]
    }
   ],
   "source": [
    "con = sqlite3.connect(\"Control3DB.db\")\n",
    "cur = con.cursor()\n",
    "cur.execute(\"select cantidad, (metros_plaza + matros_parque) from presupuesto JOIN areas_verdes USING(id_comuna)\")\n",
    "presupuesto_verde = pd.DataFrame(cur.fetchall())\n",
    "con.close()\n",
    "\n",
    "print(presupuesto_plaza)\n",
    "con.close()"
   ]
  },
  {
   "cell_type": "code",
   "execution_count": 114,
   "metadata": {},
   "outputs": [],
   "source": [
    "array2 = np.array(presupuesto_verde)"
   ]
  },
  {
   "cell_type": "code",
   "execution_count": 115,
   "metadata": {},
   "outputs": [],
   "source": [
    "presu2 = array2[:,[True, False]]\n",
    "verde = array2[:,[False, True]]"
   ]
  },
  {
   "cell_type": "code",
   "execution_count": 116,
   "metadata": {},
   "outputs": [],
   "source": [
    "train_set2, test_set2 = train_test_split(array2, test_size=0.15)"
   ]
  },
  {
   "cell_type": "code",
   "execution_count": 117,
   "metadata": {},
   "outputs": [
    {
     "data": {
      "text/plain": [
       "LinearRegression()"
      ]
     },
     "execution_count": 117,
     "metadata": {},
     "output_type": "execute_result"
    }
   ],
   "source": [
    "presu_train2 = train_set2[:, [True, False]]\n",
    "verde_train = train_set2[:, [False, True]]\n",
    "lin_reg2 = LinearRegression()\n",
    "lin_reg2.fit(presu_train2, verde_train)"
   ]
  },
  {
   "cell_type": "code",
   "execution_count": 118,
   "metadata": {},
   "outputs": [
    {
     "data": {
      "image/png": "[encoded data removed]",
      "text/plain": [
       "<Figure size 432x288 with 1 Axes>"
      ]
     },
     "metadata": {
      "needs_background": "light"
     },
     "output_type": "display_data"
    }
   ],
   "source": [
    "fig = plt.figure()\n",
    "ax = fig.add_axes([0,0,1,1])\n",
    "\n",
    "ax.scatter(presu2, verde )\n",
    "\n",
    "# Estamos graficando una recta que en el eje X tiene el arreglo setosa_sepal_width\n",
    "# Y en el eje Y agregamos las predicciones para esos valores de X\n",
    "plt.plot(presu2, lin_reg.predict(verde), color=\"orange\")\n",
    "\n",
    "ax.set_xlabel('Presupuesto')\n",
    "ax.set_ylabel('Areas Verdes')\n",
    "plt.show()"
   ]
  },
  {
   "cell_type": "code",
   "execution_count": 119,
   "metadata": {
    "scrolled": true
   },
   "outputs": [
    {
     "data": {
      "text/html": [
       "<div>\n",
       "<style scoped>\n",
       "    .dataframe tbody tr th:only-of-type {\n",
       "        vertical-align: middle;\n",
       "    }\n",
       "\n",
       "    .dataframe tbody tr th {\n",
       "        vertical-align: top;\n",
       "    }\n",
       "\n",
       "    .dataframe thead th {\n",
       "        text-align: right;\n",
       "    }\n",
       "</style>\n",
       "<table border=\"1\" class=\"dataframe\">\n",
       "  <thead>\n",
       "    <tr style=\"text-align: right;\">\n",
       "      <th></th>\n",
       "      <th>0</th>\n",
       "      <th>1</th>\n",
       "    </tr>\n",
       "  </thead>\n",
       "  <tbody>\n",
       "    <tr>\n",
       "      <th>0</th>\n",
       "      <td>59072234</td>\n",
       "      <td>153284</td>\n",
       "    </tr>\n",
       "    <tr>\n",
       "      <th>1</th>\n",
       "      <td>13984404</td>\n",
       "      <td>130316</td>\n",
       "    </tr>\n",
       "    <tr>\n",
       "      <th>2</th>\n",
       "      <td>1584008</td>\n",
       "      <td>4050</td>\n",
       "    </tr>\n",
       "    <tr>\n",
       "      <th>3</th>\n",
       "      <td>3950000</td>\n",
       "      <td>2300</td>\n",
       "    </tr>\n",
       "    <tr>\n",
       "      <th>4</th>\n",
       "      <td>5887820</td>\n",
       "      <td>33674</td>\n",
       "    </tr>\n",
       "    <tr>\n",
       "      <th>...</th>\n",
       "      <td>...</td>\n",
       "      <td>...</td>\n",
       "    </tr>\n",
       "    <tr>\n",
       "      <th>307</th>\n",
       "      <td>10459701</td>\n",
       "      <td>251026</td>\n",
       "    </tr>\n",
       "    <tr>\n",
       "      <th>308</th>\n",
       "      <td>5001190</td>\n",
       "      <td>21282</td>\n",
       "    </tr>\n",
       "    <tr>\n",
       "      <th>309</th>\n",
       "      <td>3386698</td>\n",
       "      <td>21925</td>\n",
       "    </tr>\n",
       "    <tr>\n",
       "      <th>310</th>\n",
       "      <td>1798500</td>\n",
       "      <td>9500</td>\n",
       "    </tr>\n",
       "    <tr>\n",
       "      <th>311</th>\n",
       "      <td>3979700</td>\n",
       "      <td>40480</td>\n",
       "    </tr>\n",
       "  </tbody>\n",
       "</table>\n",
       "<p>312 rows × 2 columns</p>\n",
       "</div>"
      ],
      "text/plain": [
       "            0       1\n",
       "0    59072234  153284\n",
       "1    13984404  130316\n",
       "2     1584008    4050\n",
       "3     3950000    2300\n",
       "4     5887820   33674\n",
       "..        ...     ...\n",
       "307  10459701  251026\n",
       "308   5001190   21282\n",
       "309   3386698   21925\n",
       "310   1798500    9500\n",
       "311   3979700   40480\n",
       "\n",
       "[312 rows x 2 columns]"
      ]
     },
     "execution_count": 119,
     "metadata": {},
     "output_type": "execute_result"
    }
   ],
   "source": [
    "df_presu_verde = pd.DataFrame(presupuesto_verde)\n",
    "df_presu_verde"
   ]
  },
  {
   "cell_type": "code",
   "execution_count": 120,
   "metadata": {},
   "outputs": [
    {
     "data": {
      "text/plain": [
       "0    1.000000\n",
       "1   -0.006414\n",
       "Name: 0, dtype: float64"
      ]
     },
     "execution_count": 120,
     "metadata": {},
     "output_type": "execute_result"
    }
   ],
   "source": [
    "corr_matrix = df_presu_verde.corr()\n",
    "corr_matrix[0].sort_values(ascending=False)"
   ]
  },
  {
   "cell_type": "markdown",
   "metadata": {},
   "source": [
    "*2.1.3*"
   ]
  },
  {
   "cell_type": "markdown",
   "metadata": {},
   "source": [
    "*Dado que la correlacion de presupuesto- areas de plazas es aprox 0.665585, y la de presupuesto - areas verdes es aprox -0.006414 podemos decir que es mejor hace una regreción con el area de plazas, pues es mucho más confiable, y se ralacionan más.*"
   ]
  },
  {
   "cell_type": "markdown",
   "metadata": {},
   "source": [
    "*2.2*"
   ]
  },
  {
   "cell_type": "code",
   "execution_count": 131,
   "metadata": {},
   "outputs": [
    {
     "data": {
      "text/plain": [
       "array([15622471.32324226, 10983732.46648973, 11589205.54256619,\n",
       "       40034943.79749148, 21762740.62282478])"
      ]
     },
     "execution_count": 131,
     "metadata": {},
     "output_type": "execute_result"
    }
   ],
   "source": [
    "from sklearn.model_selection import cross_val_score\n",
    "\n",
    "#Instanciamos un modelo\n",
    "modelo_regresion = LinearRegression()\n",
    "\n",
    "# Volvemos a considerar todas las Iris Setosa\n",
    "presu = array1[:,[True, False]]\n",
    "plaza = array1[:,[False, True]]\n",
    "\n",
    "# No sirve como parámetro mean_squared_error\n",
    "scores = cross_val_score(modelo_regresion, plaza, presu, scoring='neg_mean_squared_error', cv=5)\n",
    "lin_rmse_scores = np.sqrt(-scores)\n",
    "lin_rmse_scores"
   ]
  },
  {
   "cell_type": "code",
   "execution_count": 132,
   "metadata": {},
   "outputs": [
    {
     "name": "stdout",
     "output_type": "stream",
     "text": [
      "19998618.75052289\n",
      "10730363.636798292\n"
     ]
    }
   ],
   "source": [
    "print(lin_rmse_scores.mean())\n",
    "print(lin_rmse_scores.std())"
   ]
  }
 ],
 "metadata": {
  "kernelspec": {
   "display_name": "Python 3",
   "language": "python",
   "name": "python3"
  },
  "language_info": {
   "codemirror_mode": {
    "name": "ipython",
    "version": 3
   },
   "file_extension": ".py",
   "mimetype": "text/x-python",
   "name": "python",
   "nbconvert_exporter": "python",
   "pygments_lexer": "ipython3",
   "version": "3.7.3"
  }
 },
 "nbformat": 4,
 "nbformat_minor": 2
}
